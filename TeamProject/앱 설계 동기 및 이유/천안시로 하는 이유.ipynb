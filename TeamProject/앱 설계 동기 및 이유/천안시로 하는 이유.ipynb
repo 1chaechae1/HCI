{
 "cells": [
  {
   "cell_type": "code",
   "execution_count": 4,
   "id": "ac61b09f",
   "metadata": {},
   "outputs": [
    {
     "data": {
      "text/html": [
       "<div>\n",
       "<style scoped>\n",
       "    .dataframe tbody tr th:only-of-type {\n",
       "        vertical-align: middle;\n",
       "    }\n",
       "\n",
       "    .dataframe tbody tr th {\n",
       "        vertical-align: top;\n",
       "    }\n",
       "\n",
       "    .dataframe thead th {\n",
       "        text-align: right;\n",
       "    }\n",
       "</style>\n",
       "<table border=\"1\" class=\"dataframe\">\n",
       "  <thead>\n",
       "    <tr style=\"text-align: right;\">\n",
       "      <th></th>\n",
       "      <th>지역</th>\n",
       "      <th>중분류</th>\n",
       "      <th>기준년월</th>\n",
       "      <th>성별</th>\n",
       "      <th>연령대별</th>\n",
       "      <th>카드이용금액계</th>\n",
       "      <th>카드이용건수계</th>\n",
       "    </tr>\n",
       "  </thead>\n",
       "  <tbody>\n",
       "    <tr>\n",
       "      <th>0</th>\n",
       "      <td>청양군</td>\n",
       "      <td>일식/중식/양식</td>\n",
       "      <td>201702</td>\n",
       "      <td>F</td>\n",
       "      <td>60대후</td>\n",
       "      <td>114240.0</td>\n",
       "      <td>9.52</td>\n",
       "    </tr>\n",
       "    <tr>\n",
       "      <th>1</th>\n",
       "      <td>청양군</td>\n",
       "      <td>일식/중식/양식</td>\n",
       "      <td>201710</td>\n",
       "      <td>F</td>\n",
       "      <td>70대이상</td>\n",
       "      <td>290640.0</td>\n",
       "      <td>10.38</td>\n",
       "    </tr>\n",
       "    <tr>\n",
       "      <th>2</th>\n",
       "      <td>금산군</td>\n",
       "      <td>일식/중식/양식</td>\n",
       "      <td>201701</td>\n",
       "      <td>F</td>\n",
       "      <td>70대이상</td>\n",
       "      <td>575960.0</td>\n",
       "      <td>19.36</td>\n",
       "    </tr>\n",
       "    <tr>\n",
       "      <th>3</th>\n",
       "      <td>청양군</td>\n",
       "      <td>일식/중식/양식</td>\n",
       "      <td>201705</td>\n",
       "      <td>F</td>\n",
       "      <td>60대후</td>\n",
       "      <td>886050.0</td>\n",
       "      <td>19.80</td>\n",
       "    </tr>\n",
       "    <tr>\n",
       "      <th>4</th>\n",
       "      <td>청양군</td>\n",
       "      <td>제과/커피/패스트푸드</td>\n",
       "      <td>201705</td>\n",
       "      <td>M</td>\n",
       "      <td>70대이상</td>\n",
       "      <td>229185.0</td>\n",
       "      <td>19.80</td>\n",
       "    </tr>\n",
       "    <tr>\n",
       "      <th>...</th>\n",
       "      <td>...</td>\n",
       "      <td>...</td>\n",
       "      <td>...</td>\n",
       "      <td>...</td>\n",
       "      <td>...</td>\n",
       "      <td>...</td>\n",
       "      <td>...</td>\n",
       "    </tr>\n",
       "    <tr>\n",
       "      <th>11869</th>\n",
       "      <td>공주시</td>\n",
       "      <td>제과/커피/패스트푸드</td>\n",
       "      <td>201704</td>\n",
       "      <td>M</td>\n",
       "      <td>60대후</td>\n",
       "      <td>4696022.2</td>\n",
       "      <td>358.43</td>\n",
       "    </tr>\n",
       "    <tr>\n",
       "      <th>11870</th>\n",
       "      <td>예산군</td>\n",
       "      <td>제과/커피/패스트푸드</td>\n",
       "      <td>201702</td>\n",
       "      <td>M</td>\n",
       "      <td>60대초</td>\n",
       "      <td>5513698.4</td>\n",
       "      <td>428.40</td>\n",
       "    </tr>\n",
       "    <tr>\n",
       "      <th>11871</th>\n",
       "      <td>청양군</td>\n",
       "      <td>한식</td>\n",
       "      <td>201705</td>\n",
       "      <td>F</td>\n",
       "      <td>50대후</td>\n",
       "      <td>24309945.0</td>\n",
       "      <td>539.55</td>\n",
       "    </tr>\n",
       "    <tr>\n",
       "      <th>11872</th>\n",
       "      <td>부여군</td>\n",
       "      <td>일식/중식/양식</td>\n",
       "      <td>201705</td>\n",
       "      <td>M</td>\n",
       "      <td>30대후</td>\n",
       "      <td>18414000.0</td>\n",
       "      <td>564.30</td>\n",
       "    </tr>\n",
       "    <tr>\n",
       "      <th>11873</th>\n",
       "      <td>당진시</td>\n",
       "      <td>제과/커피/패스트푸드</td>\n",
       "      <td>201710</td>\n",
       "      <td>M</td>\n",
       "      <td>60대후</td>\n",
       "      <td>8329431.0</td>\n",
       "      <td>788.88</td>\n",
       "    </tr>\n",
       "  </tbody>\n",
       "</table>\n",
       "<p>11874 rows × 7 columns</p>\n",
       "</div>"
      ],
      "text/plain": [
       "        지역          중분류    기준년월 성별   연령대별     카드이용금액계  카드이용건수계\n",
       "0      청양군     일식/중식/양식  201702  F   60대후    114240.0     9.52\n",
       "1      청양군     일식/중식/양식  201710  F  70대이상    290640.0    10.38\n",
       "2      금산군     일식/중식/양식  201701  F  70대이상    575960.0    19.36\n",
       "3      청양군     일식/중식/양식  201705  F   60대후    886050.0    19.80\n",
       "4      청양군  제과/커피/패스트푸드  201705  M  70대이상    229185.0    19.80\n",
       "...    ...          ...     ... ..    ...         ...      ...\n",
       "11869  공주시  제과/커피/패스트푸드  201704  M   60대후   4696022.2   358.43\n",
       "11870  예산군  제과/커피/패스트푸드  201702  M   60대초   5513698.4   428.40\n",
       "11871  청양군           한식  201705  F   50대후  24309945.0   539.55\n",
       "11872  부여군     일식/중식/양식  201705  M   30대후  18414000.0   564.30\n",
       "11873  당진시  제과/커피/패스트푸드  201710  M   60대후   8329431.0   788.88\n",
       "\n",
       "[11874 rows x 7 columns]"
      ]
     },
     "execution_count": 4,
     "metadata": {},
     "output_type": "execute_result"
    }
   ],
   "source": [
    "import pandas as pd\n",
    "\n",
    "df = pd.read_csv('카드데이터) 충남지역별_음식점_17_통계.csv')\n",
    "df"
   ]
  },
  {
   "cell_type": "code",
   "execution_count": 5,
   "id": "668c1955",
   "metadata": {},
   "outputs": [
    {
     "data": {
      "text/plain": [
       "153965537.4841537"
      ]
     },
     "execution_count": 5,
     "metadata": {},
     "output_type": "execute_result"
    }
   ],
   "source": [
    "df['카드이용금액계'].mean()"
   ]
  },
  {
   "cell_type": "code",
   "execution_count": 6,
   "id": "c50b0c33",
   "metadata": {
    "scrolled": true
   },
   "outputs": [
    {
     "data": {
      "text/plain": [
       "array(['청양군', '금산군', '계룡시', '부여군', '태안군', '서천군', '논산시', '공주시', '홍성군',\n",
       "       '서산시', '예산군', '보령시', '아산시', '당진시', '천안시'], dtype=object)"
      ]
     },
     "execution_count": 6,
     "metadata": {},
     "output_type": "execute_result"
    }
   ],
   "source": [
    "df['지역'].unique()"
   ]
  },
  {
   "cell_type": "code",
   "execution_count": 7,
   "id": "406a3743",
   "metadata": {},
   "outputs": [],
   "source": [
    "Cheongyang = df[df['지역'] == '청양군']['카드이용금액계']\n",
    "Geumsan = df[df['지역'] == '금산군']['카드이용금액계']\n",
    "Gyeryong = df[df['지역'] == '계룡시']['카드이용금액계']\n",
    "Buyeo = df[df['지역'] == '부여군']['카드이용금액계']\n",
    "Taean = df[df['지역'] == '태안군']['카드이용금액계']\n",
    "Seocheon = df[df['지역'] == '서천군']['카드이용금액계']\n",
    "Nonsan = df[df['지역'] == '논산시']['카드이용금액계']\n",
    "Gongju = df[df['지역'] == '공주시']['카드이용금액계']\n",
    "Hongseong = df[df['지역'] == '홍성군']['카드이용금액계']\n",
    "Seosan = df[df['지역'] == '서산시']['카드이용금액계']\n",
    "Yesan = df[df['지역'] == '예산군']['카드이용금액계']\n",
    "Boryeong = df[df['지역'] == '보령시']['카드이용금액계']\n",
    "Asan = df[df['지역'] == '아산시']['카드이용금액계']\n",
    "Dangjin = df[df['지역'] == '당진시']['카드이용금액계']\n",
    "Cheonan = df[df['지역'] == '천안시']['카드이용금액계']"
   ]
  },
  {
   "cell_type": "code",
   "execution_count": 8,
   "id": "c263471e",
   "metadata": {},
   "outputs": [
    {
     "data": {
      "image/png": "[encoded data removed]",
      "text/plain": [
       "<Figure size 432x288 with 1 Axes>"
      ]
     },
     "metadata": {},
     "output_type": "display_data"
    }
   ],
   "source": [
    "import matplotlib.pyplot as plt\n",
    "plt.rcParams['font.family'] = 'NanumGothic'\n",
    "ratio = [Cheongyang.mean(), Geumsan.mean(), Gyeryong.mean(), Buyeo.mean(), Taean.mean(), Seocheon.mean(), Nonsan.mean(),\n",
    "        Gongju.mean(), Hongseong.mean(), Seosan.mean(), Yesan.mean(), Boryeong.mean(), Asan.mean(), Dangjin.mean(), Cheonan.mean()]\n",
    "\n",
    "labels = ['청양군', '금산군', '계룡시', '부여군', '태안군', '서천군', '논산시', '공주시', '홍성군',\n",
    "       '서산시', '예산군', '보령시', '아산시', '당진시', '천안시']\n",
    "\n",
    "plt.pie(ratio, labels=labels, autopct='%.1f%%')\n",
    "plt.show()"
   ]
  },
  {
   "cell_type": "code",
   "execution_count": 9,
   "id": "4176a74e",
   "metadata": {},
   "outputs": [
    {
     "data": {
      "text/plain": [
       "array(['60대후', '70대이상', '20대초', '60대초', '20대후', '30대후', '40대초', '50대후',\n",
       "       '50대초', '30대초', '40대후'], dtype=object)"
      ]
     },
     "execution_count": 9,
     "metadata": {},
     "output_type": "execute_result"
    }
   ],
   "source": [
    "df['연령대별'].unique()"
   ]
  },
  {
   "cell_type": "code",
   "execution_count": 10,
   "id": "bfce23fc",
   "metadata": {},
   "outputs": [],
   "source": [
    "ealry20 = df[df['연령대별'] == ('20대초')]['카드이용금액계']\n",
    "late20 = df[df['연령대별'] == ('20대후')]['카드이용금액계']\n",
    "early30 = df[df['연령대별'] == ('30대초')]['카드이용금액계']\n",
    "late30 = df[df['연령대별'] == ('30대후')]['카드이용금액계']\n",
    "early40 = df[df['연령대별'] == ('40대초')]['카드이용금액계']\n",
    "late40 = df[df['연령대별'] == ('40대후')]['카드이용금액계']\n",
    "early50 = df[df['연령대별'] == ('50대초')]['카드이용금액계']\n",
    "late50 = df[df['연령대별'] == '50대후']['카드이용금액계']\n",
    "early60 = df[df['연령대별'] == ('60대초')]['카드이용금액계']\n",
    "late60 = df[df['연령대별'] == '60대후']['카드이용금액계']\n",
    "over70 = df[df['연령대별'] == '70대이상']['카드이용금액계']"
   ]
  },
  {
   "cell_type": "code",
   "execution_count": 11,
   "id": "b59e7294",
   "metadata": {},
   "outputs": [
    {
     "data": {
      "image/png": "[encoded data removed]",
      "text/plain": [
       "<Figure size 432x288 with 1 Axes>"
      ]
     },
     "metadata": {},
     "output_type": "display_data"
    }
   ],
   "source": [
    "import matplotlib.pyplot as plt\n",
    "plt.rcParams['font.family'] = 'NanumGothic'\n",
    "ratio = [ealry20.mean(), late20.mean(), early30.mean(), late30.mean(), early40.mean(), late40.mean(), early50.mean(), late50.mean(),\n",
    "        early60.mean(), late60.mean(), over70.mean()]\n",
    "\n",
    "labels = ['20대초반', '20대후반', '30대초반', '30대후반','40대초반', '40대후반','50대초반', '50대후반',\n",
    "          '60대초반', '60대후반', '70대이상']\n",
    "\n",
    "plt.pie(ratio, labels=labels, autopct='%.1f%%')\n",
    "plt.show()"
   ]
  },
  {
   "cell_type": "code",
   "execution_count": 12,
   "id": "2a69444b",
   "metadata": {},
   "outputs": [
    {
     "data": {
      "text/plain": [
       "array(['일식/중식/양식', '제과/커피/패스트푸드', '한식'], dtype=object)"
      ]
     },
     "execution_count": 12,
     "metadata": {},
     "output_type": "execute_result"
    }
   ],
   "source": [
    "df['중분류'].unique()"
   ]
  },
  {
   "cell_type": "code",
   "execution_count": 13,
   "id": "bb285a5e",
   "metadata": {},
   "outputs": [],
   "source": [
    "jcw = df[df['중분류'] == ('일식/중식/양식')]['카드이용금액계']\n",
    "bcf = df[df['중분류'] == ('제과/커피/패스트푸드')]['카드이용금액계']\n",
    "k = df[df['중분류'] == ('한식')]['카드이용금액계']"
   ]
  },
  {
   "cell_type": "code",
   "execution_count": 14,
   "id": "d87a9db9",
   "metadata": {},
   "outputs": [
    {
     "data": {
      "image/png": "[encoded data removed]",
      "text/plain": [
       "<Figure size 432x288 with 1 Axes>"
      ]
     },
     "metadata": {},
     "output_type": "display_data"
    }
   ],
   "source": [
    "import matplotlib.pyplot as plt\n",
    "plt.rcParams['font.family'] = 'NanumGothic'\n",
    "ratio = [jcw.mean(), bcf.mean(), k.mean()]\n",
    "\n",
    "labels = ['일식/중식/양식', '제과/커피/패스트푸드', '한식']\n",
    "\n",
    "plt.pie(ratio, labels=labels, autopct='%.1f%%')\n",
    "plt.show()"
   ]
  },
  {
   "cell_type": "code",
   "execution_count": null,
   "id": "b23f5e61",
   "metadata": {},
   "outputs": [],
   "source": []
  }
 ],
 "metadata": {
  "kernelspec": {
   "display_name": "Python 3",
   "language": "python",
   "name": "python3"
  },
  "language_info": {
   "codemirror_mode": {
    "name": "ipython",
    "version": 3
   },
   "file_extension": ".py",
   "mimetype": "text/x-python",
   "name": "python",
   "nbconvert_exporter": "python",
   "pygments_lexer": "ipython3",
   "version": "3.8.8"
  }
 },
 "nbformat": 4,
 "nbformat_minor": 5
}
