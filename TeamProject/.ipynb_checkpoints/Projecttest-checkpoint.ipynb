{
 "cells": [
  {
   "cell_type": "code",
   "execution_count": 1,
   "id": "b1ac963d",
   "metadata": {
    "scrolled": true
   },
   "outputs": [
    {
     "data": {
      "text/html": [
       "<div>\n",
       "<style scoped>\n",
       "    .dataframe tbody tr th:only-of-type {\n",
       "        vertical-align: middle;\n",
       "    }\n",
       "\n",
       "    .dataframe tbody tr th {\n",
       "        vertical-align: top;\n",
       "    }\n",
       "\n",
       "    .dataframe thead th {\n",
       "        text-align: right;\n",
       "    }\n",
       "</style>\n",
       "<table border=\"1\" class=\"dataframe\">\n",
       "  <thead>\n",
       "    <tr style=\"text-align: right;\">\n",
       "      <th></th>\n",
       "      <th>지역</th>\n",
       "      <th>중분류</th>\n",
       "      <th>기준년월</th>\n",
       "      <th>성별</th>\n",
       "      <th>연령대별</th>\n",
       "      <th>카드이용금액계</th>\n",
       "      <th>카드이용건수계</th>\n",
       "    </tr>\n",
       "  </thead>\n",
       "  <tbody>\n",
       "    <tr>\n",
       "      <th>0</th>\n",
       "      <td>청양군</td>\n",
       "      <td>일식/중식/양식</td>\n",
       "      <td>201702</td>\n",
       "      <td>F</td>\n",
       "      <td>60대후</td>\n",
       "      <td>114240.0</td>\n",
       "      <td>9.52</td>\n",
       "    </tr>\n",
       "    <tr>\n",
       "      <th>1</th>\n",
       "      <td>청양군</td>\n",
       "      <td>일식/중식/양식</td>\n",
       "      <td>201710</td>\n",
       "      <td>F</td>\n",
       "      <td>70대이상</td>\n",
       "      <td>290640.0</td>\n",
       "      <td>10.38</td>\n",
       "    </tr>\n",
       "    <tr>\n",
       "      <th>2</th>\n",
       "      <td>금산군</td>\n",
       "      <td>일식/중식/양식</td>\n",
       "      <td>201701</td>\n",
       "      <td>F</td>\n",
       "      <td>70대이상</td>\n",
       "      <td>575960.0</td>\n",
       "      <td>19.36</td>\n",
       "    </tr>\n",
       "    <tr>\n",
       "      <th>3</th>\n",
       "      <td>청양군</td>\n",
       "      <td>일식/중식/양식</td>\n",
       "      <td>201705</td>\n",
       "      <td>F</td>\n",
       "      <td>60대후</td>\n",
       "      <td>886050.0</td>\n",
       "      <td>19.80</td>\n",
       "    </tr>\n",
       "    <tr>\n",
       "      <th>4</th>\n",
       "      <td>청양군</td>\n",
       "      <td>제과/커피/패스트푸드</td>\n",
       "      <td>201705</td>\n",
       "      <td>M</td>\n",
       "      <td>70대이상</td>\n",
       "      <td>229185.0</td>\n",
       "      <td>19.80</td>\n",
       "    </tr>\n",
       "    <tr>\n",
       "      <th>...</th>\n",
       "      <td>...</td>\n",
       "      <td>...</td>\n",
       "      <td>...</td>\n",
       "      <td>...</td>\n",
       "      <td>...</td>\n",
       "      <td>...</td>\n",
       "      <td>...</td>\n",
       "    </tr>\n",
       "    <tr>\n",
       "      <th>11869</th>\n",
       "      <td>공주시</td>\n",
       "      <td>제과/커피/패스트푸드</td>\n",
       "      <td>201704</td>\n",
       "      <td>M</td>\n",
       "      <td>60대후</td>\n",
       "      <td>4696022.2</td>\n",
       "      <td>358.43</td>\n",
       "    </tr>\n",
       "    <tr>\n",
       "      <th>11870</th>\n",
       "      <td>예산군</td>\n",
       "      <td>제과/커피/패스트푸드</td>\n",
       "      <td>201702</td>\n",
       "      <td>M</td>\n",
       "      <td>60대초</td>\n",
       "      <td>5513698.4</td>\n",
       "      <td>428.40</td>\n",
       "    </tr>\n",
       "    <tr>\n",
       "      <th>11871</th>\n",
       "      <td>청양군</td>\n",
       "      <td>한식</td>\n",
       "      <td>201705</td>\n",
       "      <td>F</td>\n",
       "      <td>50대후</td>\n",
       "      <td>24309945.0</td>\n",
       "      <td>539.55</td>\n",
       "    </tr>\n",
       "    <tr>\n",
       "      <th>11872</th>\n",
       "      <td>부여군</td>\n",
       "      <td>일식/중식/양식</td>\n",
       "      <td>201705</td>\n",
       "      <td>M</td>\n",
       "      <td>30대후</td>\n",
       "      <td>18414000.0</td>\n",
       "      <td>564.30</td>\n",
       "    </tr>\n",
       "    <tr>\n",
       "      <th>11873</th>\n",
       "      <td>당진시</td>\n",
       "      <td>제과/커피/패스트푸드</td>\n",
       "      <td>201710</td>\n",
       "      <td>M</td>\n",
       "      <td>60대후</td>\n",
       "      <td>8329431.0</td>\n",
       "      <td>788.88</td>\n",
       "    </tr>\n",
       "  </tbody>\n",
       "</table>\n",
       "<p>11874 rows × 7 columns</p>\n",
       "</div>"
      ],
      "text/plain": [
       "        지역          중분류    기준년월 성별   연령대별     카드이용금액계  카드이용건수계\n",
       "0      청양군     일식/중식/양식  201702  F   60대후    114240.0     9.52\n",
       "1      청양군     일식/중식/양식  201710  F  70대이상    290640.0    10.38\n",
       "2      금산군     일식/중식/양식  201701  F  70대이상    575960.0    19.36\n",
       "3      청양군     일식/중식/양식  201705  F   60대후    886050.0    19.80\n",
       "4      청양군  제과/커피/패스트푸드  201705  M  70대이상    229185.0    19.80\n",
       "...    ...          ...     ... ..    ...         ...      ...\n",
       "11869  공주시  제과/커피/패스트푸드  201704  M   60대후   4696022.2   358.43\n",
       "11870  예산군  제과/커피/패스트푸드  201702  M   60대초   5513698.4   428.40\n",
       "11871  청양군           한식  201705  F   50대후  24309945.0   539.55\n",
       "11872  부여군     일식/중식/양식  201705  M   30대후  18414000.0   564.30\n",
       "11873  당진시  제과/커피/패스트푸드  201710  M   60대후   8329431.0   788.88\n",
       "\n",
       "[11874 rows x 7 columns]"
      ]
     },
     "execution_count": 1,
     "metadata": {},
     "output_type": "execute_result"
    }
   ],
   "source": [
    "import pandas as pd\n",
    "\n",
    "df = pd.read_csv('카드데이터) 충남지역별_음식점_17_통계.csv')\n",
    "df"
   ]
  },
  {
   "cell_type": "code",
   "execution_count": 2,
   "id": "a2efdd7e",
   "metadata": {},
   "outputs": [
    {
     "data": {
      "text/plain": [
       "array(['청양군', '금산군', '계룡시', '부여군', '태안군', '서천군', '논산시', '공주시', '홍성군',\n",
       "       '서산시', '예산군', '보령시', '아산시', '당진시', '천안시'], dtype=object)"
      ]
     },
     "execution_count": 2,
     "metadata": {},
     "output_type": "execute_result"
    }
   ],
   "source": [
    "df['지역'].unique()"
   ]
  },
  {
   "cell_type": "code",
   "execution_count": 5,
   "id": "7b64b44b",
   "metadata": {},
   "outputs": [],
   "source": [
    "Cheongyang = df[df['지역'] == '청양군']['카드이용금액계']\n",
    "Geumsan = df[df['지역'] == '금산군']['카드이용금액계']\n",
    "Gyeryong = df[df['지역'] == '계룡시']['카드이용금액계']\n",
    "Buyeo = df[df['지역'] == '부여군']['카드이용금액계']\n",
    "Taean = df[df['지역'] == '태안군']['카드이용금액계']\n",
    "Seocheon = df[df['지역'] == '서천군']['카드이용금액계']\n",
    "Nonsan = df[df['지역'] == '논산시']['카드이용금액계']\n",
    "Gongju = df[df['지역'] == '공주시']['카드이용금액계']\n",
    "Hongseong = df[df['지역'] == '홍성군']['카드이용금액계']\n",
    "Seosan = df[df['지역'] == '서산시']['카드이용금액계']\n",
    "Yesan = df[df['지역'] == '예산군']['카드이용금액계']\n",
    "Boryeong = df[df['지역'] == '보령시']['카드이용금액계']\n",
    "Asan = df[df['지역'] == '아산시']['카드이용금액계']\n",
    "Dangjin = df[df['지역'] == '당진시']['카드이용금액계']\n",
    "Cheonan = df[df['지역'] == '천안시']['카드이용금액계']"
   ]
  },
  {
   "cell_type": "code",
   "execution_count": 6,
   "id": "3baf18bf",
   "metadata": {},
   "outputs": [
    {
     "data": {
      "image/png": "[encoded data removed]",
      "text/plain": [
       "<Figure size 432x288 with 1 Axes>"
      ]
     },
     "metadata": {},
     "output_type": "display_data"
    }
   ],
   "source": [
    "import matplotlib.pyplot as plt\n",
    "plt.rcParams['font.family'] = 'NanumGothic'\n",
    "ratio = [Cheongyang.mean(), Geumsan.mean(), Gyeryong.mean(), Buyeo.mean(), Taean.mean(), Seocheon.mean(), Nonsan.mean(),\n",
    "        Gongju.mean(), Hongseong.mean(), Seosan.mean(), Yesan.mean(), Boryeong.mean(), Asan.mean(), Dangjin.mean(), Cheonan.mean()]\n",
    "\n",
    "labels = ['청양군', '금산군', '계룡시', '부여군', '태안군', '서천군', '논산시', '공주시', '홍성군',\n",
    "       '서산시', '예산군', '보령시', '아산시', '당진시', '천안시']\n",
    "\n",
    "plt.pie(ratio, labels=labels, autopct='%.1f%%')\n",
    "plt.show()"
   ]
  },
  {
   "cell_type": "code",
   "execution_count": 19,
   "id": "7d18bb7a",
   "metadata": {
    "scrolled": true
   },
   "outputs": [
    {
     "data": {
      "text/plain": [
       "array(['60대후', '70대이상', '20대초', '60대초', '20대후', '30대후', '40대초', '50대후',\n",
       "       '50대초', '30대초', '40대후'], dtype=object)"
      ]
     },
     "execution_count": 19,
     "metadata": {},
     "output_type": "execute_result"
    }
   ],
   "source": [
    "df['연령대별'].unique()"
   ]
  },
  {
   "cell_type": "code",
   "execution_count": 20,
   "id": "139296ed",
   "metadata": {},
   "outputs": [],
   "source": [
    "ealry20 = df[df['연령대별'] == ('20대초')]['카드이용금액계']\n",
    "late20 = df[df['연령대별'] == ('20대후')]['카드이용금액계']\n",
    "early30 = df[df['연령대별'] == ('30대초')]['카드이용금액계']\n",
    "late30 = df[df['연령대별'] == ('30대후')]['카드이용금액계']\n",
    "early40 = df[df['연령대별'] == ('40대초')]['카드이용금액계']\n",
    "late40 = df[df['연령대별'] == ('40대후')]['카드이용금액계']\n",
    "early50 = df[df['연령대별'] == ('50대초')]['카드이용금액계']\n",
    "late50 = df[df['연령대별'] == '50대후']['카드이용금액계']\n",
    "early60 = df[df['연령대별'] == ('60대초')]['카드이용금액계']\n",
    "late60 = df[df['연령대별'] == '60대후']['카드이용금액계']\n",
    "over70 = df[df['연령대별'] == '70대이상']['카드이용금액계']"
   ]
  },
  {
   "cell_type": "code",
   "execution_count": 21,
   "id": "759ecab7",
   "metadata": {
    "scrolled": true
   },
   "outputs": [
    {
     "data": {
      "image/png": "[encoded data removed]",
      "text/plain": [
       "<Figure size 432x288 with 1 Axes>"
      ]
     },
     "metadata": {},
     "output_type": "display_data"
    }
   ],
   "source": [
    "import matplotlib.pyplot as plt\n",
    "plt.rcParams['font.family'] = 'NanumGothic'\n",
    "ratio = [ealry20.mean(), late20.mean(), early30.mean(), late30.mean(), early40.mean(), late40.mean(), early50.mean(), late50.mean(),\n",
    "        early60.mean(), late60.mean(), over70.mean()]\n",
    "\n",
    "labels = ['20대초반', '20대후반', '30대초반', '30대후반','40대초반', '40대후반','50대초반', '50대후반',\n",
    "          '60대초반', '60대후반', '70대이상']\n",
    "\n",
    "plt.pie(ratio, labels=labels, autopct='%.1f%%')\n",
    "plt.show()"
   ]
  },
  {
   "cell_type": "code",
   "execution_count": 170,
   "id": "bb10f543",
   "metadata": {
    "scrolled": false
   },
   "outputs": [
    {
     "data": {
      "text/html": [
       "<div>\n",
       "<style scoped>\n",
       "    .dataframe tbody tr th:only-of-type {\n",
       "        vertical-align: middle;\n",
       "    }\n",
       "\n",
       "    .dataframe tbody tr th {\n",
       "        vertical-align: top;\n",
       "    }\n",
       "\n",
       "    .dataframe thead th {\n",
       "        text-align: right;\n",
       "    }\n",
       "</style>\n",
       "<table border=\"1\" class=\"dataframe\">\n",
       "  <thead>\n",
       "    <tr style=\"text-align: right;\">\n",
       "      <th></th>\n",
       "      <th>업소명</th>\n",
       "      <th>소재지(도로명)</th>\n",
       "      <th>소재지(지번)</th>\n",
       "      <th>소재지전화</th>\n",
       "    </tr>\n",
       "  </thead>\n",
       "  <tbody>\n",
       "    <tr>\n",
       "      <th>0</th>\n",
       "      <td>유명통닭</td>\n",
       "      <td>충청남도 천안시 동남구 풍세로 934-1 (청수동)</td>\n",
       "      <td>충청남도 천안시 동남구 청수동 231-8</td>\n",
       "      <td>041- 563-3655</td>\n",
       "    </tr>\n",
       "    <tr>\n",
       "      <th>1</th>\n",
       "      <td>태정버섯매운탕</td>\n",
       "      <td>충청남도 천안시 동남구 동리길 22, 1층 (오룡동)</td>\n",
       "      <td>충청남도 천안시 동남구 오룡동 123-10 1층</td>\n",
       "      <td>041- 565-1159</td>\n",
       "    </tr>\n",
       "    <tr>\n",
       "      <th>2</th>\n",
       "      <td>평양냉면</td>\n",
       "      <td>NaN</td>\n",
       "      <td>충청남도 천안시 동남구 사직동 168</td>\n",
       "      <td>0041-0551-4851</td>\n",
       "    </tr>\n",
       "    <tr>\n",
       "      <th>3</th>\n",
       "      <td>청화집순대</td>\n",
       "      <td>충청남도 천안시 동남구 병천면 충절로 1749, 1층</td>\n",
       "      <td>충청남도 천안시 동남구 병천면 병천리 167-6 1층</td>\n",
       "      <td>041 -564 -1558</td>\n",
       "    </tr>\n",
       "    <tr>\n",
       "      <th>4</th>\n",
       "      <td>정난네식당</td>\n",
       "      <td>충청남도 천안시 동남구 문화로 20 (문화동)</td>\n",
       "      <td>충청남도 천안시 동남구 문화동 29-1</td>\n",
       "      <td>NaN</td>\n",
       "    </tr>\n",
       "    <tr>\n",
       "      <th>...</th>\n",
       "      <td>...</td>\n",
       "      <td>...</td>\n",
       "      <td>...</td>\n",
       "      <td>...</td>\n",
       "    </tr>\n",
       "    <tr>\n",
       "      <th>3693</th>\n",
       "      <td>정아푸드</td>\n",
       "      <td>충청남도 천안시 동남구 목천읍 목천안터2길 19, 상가동 2층 207호 (신도브래뉴...</td>\n",
       "      <td>충청남도 천안시 동남구 목천읍 신계리 166-36 신도브래뉴2차아파트 상가동 207호</td>\n",
       "      <td>NaN</td>\n",
       "    </tr>\n",
       "    <tr>\n",
       "      <th>3694</th>\n",
       "      <td>산촌흑염소</td>\n",
       "      <td>충청남도 천안시 동남구 목천읍 신계5길 32, 1층</td>\n",
       "      <td>충청남도 천안시 동남구 목천읍 신계리 107-30 1층</td>\n",
       "      <td>NaN</td>\n",
       "    </tr>\n",
       "    <tr>\n",
       "      <th>3695</th>\n",
       "      <td>우림칼국수</td>\n",
       "      <td>충청남도 천안시 동남구 광풍로 1869, 1층 109,110호 (청당동)</td>\n",
       "      <td>충청남도 천안시 동남구 청당동 446 1층 109,110호</td>\n",
       "      <td>NaN</td>\n",
       "    </tr>\n",
       "    <tr>\n",
       "      <th>3696</th>\n",
       "      <td>참치정육점참다랑어막주는집천안점</td>\n",
       "      <td>충청남도 천안시 동남구 청수9로 47, 1층 104호 (청당동)</td>\n",
       "      <td>충청남도 천안시 동남구 청당동 524 1층 104호</td>\n",
       "      <td>0415-5709-24</td>\n",
       "    </tr>\n",
       "    <tr>\n",
       "      <th>3697</th>\n",
       "      <td>소버</td>\n",
       "      <td>충청남도 천안시 동남구 먹거리8길 25, 1층 (신부동)</td>\n",
       "      <td>충청남도 천안시 동남구 신부동 458-8 1층</td>\n",
       "      <td>NaN</td>\n",
       "    </tr>\n",
       "  </tbody>\n",
       "</table>\n",
       "<p>3698 rows × 4 columns</p>\n",
       "</div>"
      ],
      "text/plain": [
       "                   업소명                                           소재지(도로명)  \\\n",
       "0                 유명통닭                       충청남도 천안시 동남구 풍세로 934-1 (청수동)   \n",
       "1              태정버섯매운탕                      충청남도 천안시 동남구 동리길 22, 1층 (오룡동)   \n",
       "2                 평양냉면                                                NaN   \n",
       "3                청화집순대                      충청남도 천안시 동남구 병천면 충절로 1749, 1층   \n",
       "4                정난네식당                          충청남도 천안시 동남구 문화로 20 (문화동)   \n",
       "...                ...                                                ...   \n",
       "3693              정아푸드  충청남도 천안시 동남구 목천읍 목천안터2길 19, 상가동 2층 207호 (신도브래뉴...   \n",
       "3694             산촌흑염소                       충청남도 천안시 동남구 목천읍 신계5길 32, 1층   \n",
       "3695             우림칼국수           충청남도 천안시 동남구 광풍로 1869, 1층 109,110호 (청당동)   \n",
       "3696  참치정육점참다랑어막주는집천안점                충청남도 천안시 동남구 청수9로 47, 1층 104호 (청당동)   \n",
       "3697                소버                    충청남도 천안시 동남구 먹거리8길 25, 1층 (신부동)   \n",
       "\n",
       "                                              소재지(지번)           소재지전화  \n",
       "0                             충청남도 천안시 동남구 청수동 231-8    041- 563-3655  \n",
       "1                         충청남도 천안시 동남구 오룡동 123-10 1층    041- 565-1159  \n",
       "2                               충청남도 천안시 동남구 사직동 168   0041-0551-4851  \n",
       "3                      충청남도 천안시 동남구 병천면 병천리 167-6 1층   041 -564 -1558  \n",
       "4                              충청남도 천안시 동남구 문화동 29-1              NaN  \n",
       "...                                               ...             ...  \n",
       "3693  충청남도 천안시 동남구 목천읍 신계리 166-36 신도브래뉴2차아파트 상가동 207호             NaN  \n",
       "3694                  충청남도 천안시 동남구 목천읍 신계리 107-30 1층              NaN  \n",
       "3695                충청남도 천안시 동남구 청당동 446 1층 109,110호              NaN  \n",
       "3696                     충청남도 천안시 동남구 청당동 524 1층 104호    0415-5709-24  \n",
       "3697                       충청남도 천안시 동남구 신부동 458-8 1층              NaN  \n",
       "\n",
       "[3698 rows x 4 columns]"
      ]
     },
     "execution_count": 170,
     "metadata": {},
     "output_type": "execute_result"
    }
   ],
   "source": [
    "import pandas as pd\n",
    "\n",
    "df = pd.read_csv('천안 일반음식점_동남구.csv')\n",
    "df"
   ]
  },
  {
   "cell_type": "code",
   "execution_count": 171,
   "id": "6fde654c",
   "metadata": {},
   "outputs": [
    {
     "data": {
      "text/plain": [
       "업소명         268\n",
       "소재지(도로명)    266\n",
       "소재지(지번)     268\n",
       "소재지전화       108\n",
       "dtype: int64"
      ]
     },
     "execution_count": 171,
     "metadata": {},
     "output_type": "execute_result"
    }
   ],
   "source": [
    "df[df['소재지(지번)'].str.contains('청당동')].count()"
   ]
  },
  {
   "cell_type": "code",
   "execution_count": 147,
   "id": "57f78eed",
   "metadata": {
    "scrolled": true
   },
   "outputs": [
    {
     "data": {
      "text/html": [
       "<div>\n",
       "<style scoped>\n",
       "    .dataframe tbody tr th:only-of-type {\n",
       "        vertical-align: middle;\n",
       "    }\n",
       "\n",
       "    .dataframe tbody tr th {\n",
       "        vertical-align: top;\n",
       "    }\n",
       "\n",
       "    .dataframe thead th {\n",
       "        text-align: right;\n",
       "    }\n",
       "</style>\n",
       "<table border=\"1\" class=\"dataframe\">\n",
       "  <thead>\n",
       "    <tr style=\"text-align: right;\">\n",
       "      <th></th>\n",
       "      <th>업종명</th>\n",
       "      <th>업소명</th>\n",
       "      <th>소재지(도로명)</th>\n",
       "      <th>소재지(지번)</th>\n",
       "      <th>소재지전화</th>\n",
       "      <th>업태명</th>\n",
       "    </tr>\n",
       "  </thead>\n",
       "  <tbody>\n",
       "    <tr>\n",
       "      <th>0</th>\n",
       "      <td>일반음식점</td>\n",
       "      <td>공주집</td>\n",
       "      <td>충청남도 천안시 서북구 성환읍 송덕2길 113, 1층</td>\n",
       "      <td>충청남도 천안시 서북구 성환읍 송덕리 54</td>\n",
       "      <td>NaN</td>\n",
       "      <td>한식</td>\n",
       "    </tr>\n",
       "    <tr>\n",
       "      <th>1</th>\n",
       "      <td>일반음식점</td>\n",
       "      <td>수향고을</td>\n",
       "      <td>충청남도 천안시 서북구 성환읍 신향촌길 21, 수향고을</td>\n",
       "      <td>충청남도 천안시 서북구 성환읍 수향리 20-61 수향고을</td>\n",
       "      <td>- 581-5077</td>\n",
       "      <td>호프/통닭</td>\n",
       "    </tr>\n",
       "    <tr>\n",
       "      <th>2</th>\n",
       "      <td>일반음식점</td>\n",
       "      <td>보담밥상</td>\n",
       "      <td>충청남도 천안시 서북구 입장면 입장시장3길 8-3, 1층</td>\n",
       "      <td>충청남도 천안시 서북구 입장면 하장리 44-43</td>\n",
       "      <td>- 584-5848</td>\n",
       "      <td>한식</td>\n",
       "    </tr>\n",
       "    <tr>\n",
       "      <th>3</th>\n",
       "      <td>일반음식점</td>\n",
       "      <td>성환정</td>\n",
       "      <td>충청남도 천안시 서북구 성환읍 성환11길 12</td>\n",
       "      <td>충청남도 천안시 서북구 성환읍 성환리 449-28</td>\n",
       "      <td>NaN</td>\n",
       "      <td>한식</td>\n",
       "    </tr>\n",
       "    <tr>\n",
       "      <th>4</th>\n",
       "      <td>일반음식점</td>\n",
       "      <td>동순원</td>\n",
       "      <td>충청남도 천안시 서북구 성환읍 성환중앙로 33</td>\n",
       "      <td>충청남도 천안시 서북구 성환읍 성환리 449</td>\n",
       "      <td>041- 581-2070</td>\n",
       "      <td>중국식</td>\n",
       "    </tr>\n",
       "    <tr>\n",
       "      <th>...</th>\n",
       "      <td>...</td>\n",
       "      <td>...</td>\n",
       "      <td>...</td>\n",
       "      <td>...</td>\n",
       "      <td>...</td>\n",
       "      <td>...</td>\n",
       "    </tr>\n",
       "    <tr>\n",
       "      <th>5317</th>\n",
       "      <td>일반음식점</td>\n",
       "      <td>구독족발</td>\n",
       "      <td>충청남도 천안시 서북구 서부대로 714, 영광빌딩 1층 101호 (두정동)</td>\n",
       "      <td>충청남도 천안시 서북구 두정동 806 영광빌딩</td>\n",
       "      <td>NaN</td>\n",
       "      <td>한식</td>\n",
       "    </tr>\n",
       "    <tr>\n",
       "      <th>5318</th>\n",
       "      <td>일반음식점</td>\n",
       "      <td>다바오</td>\n",
       "      <td>충청남도 천안시 서북구 성정공원5로 35, 메트로죤 503호 (성정동)</td>\n",
       "      <td>충청남도 천안시 서북구 성정동 1358 메트로죤</td>\n",
       "      <td>NaN</td>\n",
       "      <td>호프/통닭</td>\n",
       "    </tr>\n",
       "    <tr>\n",
       "      <th>5319</th>\n",
       "      <td>일반음식점</td>\n",
       "      <td>니하오양육관</td>\n",
       "      <td>충청남도 천안시 서북구 불당21로 67-21, 1층 104,105호 (불당동)</td>\n",
       "      <td>충청남도 천안시 서북구 불당동 1542-1</td>\n",
       "      <td>NaN</td>\n",
       "      <td>한식</td>\n",
       "    </tr>\n",
       "    <tr>\n",
       "      <th>5320</th>\n",
       "      <td>일반음식점</td>\n",
       "      <td>라오니피자천안점</td>\n",
       "      <td>충청남도 천안시 서북구 쌍용14길 50, 101호 (쌍용동, 싼타빌)</td>\n",
       "      <td>충청남도 천안시 서북구 쌍용동 685 싼타빌</td>\n",
       "      <td>NaN</td>\n",
       "      <td>경양식</td>\n",
       "    </tr>\n",
       "    <tr>\n",
       "      <th>5321</th>\n",
       "      <td>일반음식점</td>\n",
       "      <td>그리너불당점</td>\n",
       "      <td>충청남도 천안시 서북구 불당21로 67-12, 퍼스트프라자 1층 110호 (불당동)</td>\n",
       "      <td>충청남도 천안시 서북구 불당동 1537 퍼스트프라자</td>\n",
       "      <td>NaN</td>\n",
       "      <td>경양식</td>\n",
       "    </tr>\n",
       "  </tbody>\n",
       "</table>\n",
       "<p>5322 rows × 6 columns</p>\n",
       "</div>"
      ],
      "text/plain": [
       "        업종명       업소명                                        소재지(도로명)  \\\n",
       "0     일반음식점       공주집                   충청남도 천안시 서북구 성환읍 송덕2길 113, 1층   \n",
       "1     일반음식점      수향고을                  충청남도 천안시 서북구 성환읍 신향촌길 21, 수향고을   \n",
       "2     일반음식점      보담밥상                 충청남도 천안시 서북구 입장면 입장시장3길 8-3, 1층   \n",
       "3     일반음식점       성환정                       충청남도 천안시 서북구 성환읍 성환11길 12   \n",
       "4     일반음식점       동순원                       충청남도 천안시 서북구 성환읍 성환중앙로 33   \n",
       "...     ...       ...                                             ...   \n",
       "5317  일반음식점      구독족발       충청남도 천안시 서북구 서부대로 714, 영광빌딩 1층 101호 (두정동)   \n",
       "5318  일반음식점       다바오         충청남도 천안시 서북구 성정공원5로 35, 메트로죤 503호 (성정동)   \n",
       "5319  일반음식점    니하오양육관     충청남도 천안시 서북구 불당21로 67-21, 1층 104,105호 (불당동)   \n",
       "5320  일반음식점  라오니피자천안점          충청남도 천안시 서북구 쌍용14길 50, 101호 (쌍용동, 싼타빌)   \n",
       "5321  일반음식점    그리너불당점  충청남도 천안시 서북구 불당21로 67-12, 퍼스트프라자 1층 110호 (불당동)   \n",
       "\n",
       "                               소재지(지번)           소재지전화    업태명  \n",
       "0             충청남도 천안시 서북구 성환읍 송덕리 54              NaN     한식  \n",
       "1     충청남도 천안시 서북구 성환읍 수향리 20-61 수향고을       - 581-5077  호프/통닭  \n",
       "2          충청남도 천안시 서북구 입장면 하장리 44-43       - 584-5848     한식  \n",
       "3         충청남도 천안시 서북구 성환읍 성환리 449-28              NaN     한식  \n",
       "4            충청남도 천안시 서북구 성환읍 성환리 449    041- 581-2070    중국식  \n",
       "...                                ...             ...    ...  \n",
       "5317        충청남도 천안시 서북구 두정동 806 영광빌딩              NaN     한식  \n",
       "5318       충청남도 천안시 서북구 성정동 1358 메트로죤              NaN  호프/통닭  \n",
       "5319          충청남도 천안시 서북구 불당동 1542-1              NaN     한식  \n",
       "5320         충청남도 천안시 서북구 쌍용동 685 싼타빌              NaN    경양식  \n",
       "5321     충청남도 천안시 서북구 불당동 1537 퍼스트프라자              NaN    경양식  \n",
       "\n",
       "[5322 rows x 6 columns]"
      ]
     },
     "execution_count": 147,
     "metadata": {},
     "output_type": "execute_result"
    }
   ],
   "source": [
    "import pandas as pd\n",
    "\n",
    "df = pd.read_csv('천안 일반음식점_서북구.csv')\n",
    "df"
   ]
  },
  {
   "cell_type": "code",
   "execution_count": 148,
   "id": "feccdebd",
   "metadata": {},
   "outputs": [
    {
     "data": {
      "text/plain": [
       "array(['일반음식점'], dtype=object)"
      ]
     },
     "execution_count": 148,
     "metadata": {},
     "output_type": "execute_result"
    }
   ],
   "source": [
    "df['업종명'].unique()"
   ]
  },
  {
   "cell_type": "code",
   "execution_count": 149,
   "id": "00fecfe0",
   "metadata": {},
   "outputs": [
    {
     "data": {
      "text/plain": [
       "array(['한식', '호프/통닭', '중국식', '분식', '식육(숯불구이)', '통닭(치킨)', '패스트푸드', '까페',\n",
       "       '정종/대포집/소주방', '횟집', '기타', '뷔페식', '일식', '경양식', '전통찻집', '김밥(도시락)',\n",
       "       '외국음식전문점(인도,태국등)', '탕류(보신용)', '출장조리', '복어취급', '라이브카페', '패밀리레스트랑',\n",
       "       '키즈카페'], dtype=object)"
      ]
     },
     "execution_count": 149,
     "metadata": {},
     "output_type": "execute_result"
    }
   ],
   "source": [
    "df['업태명'].unique()"
   ]
  },
  {
   "cell_type": "code",
   "execution_count": 150,
   "id": "4c5218ff",
   "metadata": {
    "scrolled": true
   },
   "outputs": [
    {
     "data": {
      "text/plain": [
       "5322"
      ]
     },
     "execution_count": 150,
     "metadata": {},
     "output_type": "execute_result"
    }
   ],
   "source": [
    "df['업태명'].count()"
   ]
  },
  {
   "cell_type": "code",
   "execution_count": 141,
   "id": "96bf13f4",
   "metadata": {},
   "outputs": [
    {
     "data": {
      "text/plain": [
       "업종명         2403\n",
       "업소명         2403\n",
       "소재지(도로명)    2390\n",
       "소재지(지번)     2403\n",
       "소재지전화       1285\n",
       "업태명         2403\n",
       "dtype: int64"
      ]
     },
     "execution_count": 141,
     "metadata": {},
     "output_type": "execute_result"
    }
   ],
   "source": [
    "df[(df['업태명']=='한식')].count()"
   ]
  },
  {
   "cell_type": "code",
   "execution_count": 105,
   "id": "bc684767",
   "metadata": {},
   "outputs": [
    {
     "data": {
      "text/plain": [
       "업종명         623\n",
       "업소명         623\n",
       "소재지(도로명)    621\n",
       "소재지(지번)     623\n",
       "소재지전화       321\n",
       "업태명         623\n",
       "dtype: int64"
      ]
     },
     "execution_count": 105,
     "metadata": {},
     "output_type": "execute_result"
    }
   ],
   "source": [
    "df[(df['업태명']=='호프/통닭')].count()"
   ]
  },
  {
   "cell_type": "code",
   "execution_count": 106,
   "id": "fd55e8d7",
   "metadata": {},
   "outputs": [
    {
     "data": {
      "text/plain": [
       "업종명         162\n",
       "업소명         162\n",
       "소재지(도로명)    161\n",
       "소재지(지번)     162\n",
       "소재지전화        84\n",
       "업태명         162\n",
       "dtype: int64"
      ]
     },
     "execution_count": 106,
     "metadata": {},
     "output_type": "execute_result"
    }
   ],
   "source": [
    "df[(df['업태명']=='중국식')].count()"
   ]
  },
  {
   "cell_type": "code",
   "execution_count": 107,
   "id": "d30beda3",
   "metadata": {},
   "outputs": [
    {
     "data": {
      "text/plain": [
       "업종명         282\n",
       "업소명         282\n",
       "소재지(도로명)    281\n",
       "소재지(지번)     282\n",
       "소재지전화       135\n",
       "업태명         282\n",
       "dtype: int64"
      ]
     },
     "execution_count": 107,
     "metadata": {},
     "output_type": "execute_result"
    }
   ],
   "source": [
    "df[(df['업태명']=='분식')].count()"
   ]
  },
  {
   "cell_type": "code",
   "execution_count": 108,
   "id": "f56325ea",
   "metadata": {},
   "outputs": [
    {
     "data": {
      "text/plain": [
       "업종명         328\n",
       "업소명         328\n",
       "소재지(도로명)    328\n",
       "소재지(지번)     328\n",
       "소재지전화       153\n",
       "업태명         328\n",
       "dtype: int64"
      ]
     },
     "execution_count": 108,
     "metadata": {},
     "output_type": "execute_result"
    }
   ],
   "source": [
    "df[(df['업태명']=='식육(숯불구이)')].count()"
   ]
  },
  {
   "cell_type": "code",
   "execution_count": 109,
   "id": "8e2cea74",
   "metadata": {},
   "outputs": [
    {
     "data": {
      "text/plain": [
       "업종명         165\n",
       "업소명         165\n",
       "소재지(도로명)    164\n",
       "소재지(지번)     165\n",
       "소재지전화       117\n",
       "업태명         165\n",
       "dtype: int64"
      ]
     },
     "execution_count": 109,
     "metadata": {},
     "output_type": "execute_result"
    }
   ],
   "source": [
    "df[(df['업태명']=='통닭(치킨)')].count()"
   ]
  },
  {
   "cell_type": "code",
   "execution_count": 110,
   "id": "8a9e106d",
   "metadata": {},
   "outputs": [
    {
     "data": {
      "text/plain": [
       "업종명         40\n",
       "업소명         40\n",
       "소재지(도로명)    40\n",
       "소재지(지번)     40\n",
       "소재지전화       31\n",
       "업태명         40\n",
       "dtype: int64"
      ]
     },
     "execution_count": 110,
     "metadata": {},
     "output_type": "execute_result"
    }
   ],
   "source": [
    "df[(df['업태명']=='패스트푸드')].count()"
   ]
  },
  {
   "cell_type": "code",
   "execution_count": 111,
   "id": "e2091111",
   "metadata": {},
   "outputs": [
    {
     "data": {
      "text/plain": [
       "업종명         70\n",
       "업소명         70\n",
       "소재지(도로명)    70\n",
       "소재지(지번)     70\n",
       "소재지전화       45\n",
       "업태명         70\n",
       "dtype: int64"
      ]
     },
     "execution_count": 111,
     "metadata": {},
     "output_type": "execute_result"
    }
   ],
   "source": [
    "df[(df['업태명']=='까페')].count()"
   ]
  },
  {
   "cell_type": "code",
   "execution_count": 112,
   "id": "9df092c2",
   "metadata": {},
   "outputs": [
    {
     "data": {
      "text/plain": [
       "업종명         318\n",
       "업소명         318\n",
       "소재지(도로명)    318\n",
       "소재지(지번)     318\n",
       "소재지전화       113\n",
       "업태명         318\n",
       "dtype: int64"
      ]
     },
     "execution_count": 112,
     "metadata": {},
     "output_type": "execute_result"
    }
   ],
   "source": [
    "df[(df['업태명']=='정종/대포집/소주방')].count()"
   ]
  },
  {
   "cell_type": "code",
   "execution_count": 113,
   "id": "5b7e938e",
   "metadata": {},
   "outputs": [
    {
     "data": {
      "text/plain": [
       "업종명         58\n",
       "업소명         58\n",
       "소재지(도로명)    58\n",
       "소재지(지번)     58\n",
       "소재지전화       24\n",
       "업태명         58\n",
       "dtype: int64"
      ]
     },
     "execution_count": 113,
     "metadata": {},
     "output_type": "execute_result"
    }
   ],
   "source": [
    "df[(df['업태명']=='횟집')].count()"
   ]
  },
  {
   "cell_type": "code",
   "execution_count": 114,
   "id": "eadab8ad",
   "metadata": {},
   "outputs": [
    {
     "data": {
      "text/plain": [
       "업종명         225\n",
       "업소명         225\n",
       "소재지(도로명)    224\n",
       "소재지(지번)     225\n",
       "소재지전화        86\n",
       "업태명         225\n",
       "dtype: int64"
      ]
     },
     "execution_count": 114,
     "metadata": {},
     "output_type": "execute_result"
    }
   ],
   "source": [
    "df[(df['업태명']=='기타')].count()"
   ]
  },
  {
   "cell_type": "code",
   "execution_count": 115,
   "id": "464ba679",
   "metadata": {},
   "outputs": [
    {
     "data": {
      "text/plain": [
       "업종명         26\n",
       "업소명         26\n",
       "소재지(도로명)    26\n",
       "소재지(지번)     26\n",
       "소재지전화       19\n",
       "업태명         26\n",
       "dtype: int64"
      ]
     },
     "execution_count": 115,
     "metadata": {},
     "output_type": "execute_result"
    }
   ],
   "source": [
    "df[(df['업태명']=='뷔페식')].count()"
   ]
  },
  {
   "cell_type": "code",
   "execution_count": 116,
   "id": "2585f042",
   "metadata": {},
   "outputs": [
    {
     "data": {
      "text/plain": [
       "업종명         183\n",
       "업소명         183\n",
       "소재지(도로명)    183\n",
       "소재지(지번)     183\n",
       "소재지전화       113\n",
       "업태명         183\n",
       "dtype: int64"
      ]
     },
     "execution_count": 116,
     "metadata": {},
     "output_type": "execute_result"
    }
   ],
   "source": [
    "df[(df['업태명']=='일식')].count()"
   ]
  },
  {
   "cell_type": "code",
   "execution_count": 123,
   "id": "3efd940a",
   "metadata": {},
   "outputs": [
    {
     "data": {
      "text/plain": [
       "업종명         352\n",
       "업소명         352\n",
       "소재지(도로명)    352\n",
       "소재지(지번)     352\n",
       "소재지전화       126\n",
       "업태명         352\n",
       "dtype: int64"
      ]
     },
     "execution_count": 123,
     "metadata": {},
     "output_type": "execute_result"
    }
   ],
   "source": [
    "df[(df['업태명']=='경양식')].count()"
   ]
  },
  {
   "cell_type": "code",
   "execution_count": 142,
   "id": "85bb0e8c",
   "metadata": {},
   "outputs": [
    {
     "data": {
      "text/plain": [
       "업종명         4\n",
       "업소명         4\n",
       "소재지(도로명)    4\n",
       "소재지(지번)     4\n",
       "소재지전화       3\n",
       "업태명         4\n",
       "dtype: int64"
      ]
     },
     "execution_count": 142,
     "metadata": {},
     "output_type": "execute_result"
    }
   ],
   "source": [
    "df[(df['업태명']=='전통찻집')].count()"
   ]
  },
  {
   "cell_type": "code",
   "execution_count": 125,
   "id": "f409e80e",
   "metadata": {},
   "outputs": [
    {
     "data": {
      "text/plain": [
       "업종명         31\n",
       "업소명         31\n",
       "소재지(도로명)    31\n",
       "소재지(지번)     31\n",
       "소재지전화       21\n",
       "업태명         31\n",
       "dtype: int64"
      ]
     },
     "execution_count": 125,
     "metadata": {},
     "output_type": "execute_result"
    }
   ],
   "source": [
    "df[(df['업태명']=='김밥(도시락)')].count()"
   ]
  },
  {
   "cell_type": "code",
   "execution_count": 126,
   "id": "db74d00a",
   "metadata": {},
   "outputs": [
    {
     "data": {
      "text/plain": [
       "업종명         28\n",
       "업소명         28\n",
       "소재지(도로명)    28\n",
       "소재지(지번)     28\n",
       "소재지전화        7\n",
       "업태명         28\n",
       "dtype: int64"
      ]
     },
     "execution_count": 126,
     "metadata": {},
     "output_type": "execute_result"
    }
   ],
   "source": [
    "df[(df['업태명']=='외국음식전문점(인도,태국등)')].count()"
   ]
  },
  {
   "cell_type": "code",
   "execution_count": 127,
   "id": "324c84fe",
   "metadata": {},
   "outputs": [
    {
     "data": {
      "text/plain": [
       "업종명         7\n",
       "업소명         7\n",
       "소재지(도로명)    7\n",
       "소재지(지번)     7\n",
       "소재지전화       4\n",
       "업태명         7\n",
       "dtype: int64"
      ]
     },
     "execution_count": 127,
     "metadata": {},
     "output_type": "execute_result"
    }
   ],
   "source": [
    "df[(df['업태명']=='탕류(보신용)')].count()"
   ]
  },
  {
   "cell_type": "code",
   "execution_count": 128,
   "id": "8a3a089f",
   "metadata": {},
   "outputs": [
    {
     "data": {
      "text/plain": [
       "업종명         2\n",
       "업소명         2\n",
       "소재지(도로명)    2\n",
       "소재지(지번)     2\n",
       "소재지전화       2\n",
       "업태명         2\n",
       "dtype: int64"
      ]
     },
     "execution_count": 128,
     "metadata": {},
     "output_type": "execute_result"
    }
   ],
   "source": [
    "df[(df['업태명']=='출장조리')].count()"
   ]
  },
  {
   "cell_type": "code",
   "execution_count": 129,
   "id": "58f8df44",
   "metadata": {},
   "outputs": [
    {
     "data": {
      "text/plain": [
       "업종명         4\n",
       "업소명         4\n",
       "소재지(도로명)    4\n",
       "소재지(지번)     4\n",
       "소재지전화       4\n",
       "업태명         4\n",
       "dtype: int64"
      ]
     },
     "execution_count": 129,
     "metadata": {},
     "output_type": "execute_result"
    }
   ],
   "source": [
    "df[(df['업태명']=='복어취급')].count()"
   ]
  },
  {
   "cell_type": "code",
   "execution_count": 130,
   "id": "e4d2f716",
   "metadata": {},
   "outputs": [
    {
     "data": {
      "text/plain": [
       "업종명         3\n",
       "업소명         3\n",
       "소재지(도로명)    3\n",
       "소재지(지번)     3\n",
       "소재지전화       3\n",
       "업태명         3\n",
       "dtype: int64"
      ]
     },
     "execution_count": 130,
     "metadata": {},
     "output_type": "execute_result"
    }
   ],
   "source": [
    "df[(df['업태명']=='라이브카페')].count()"
   ]
  },
  {
   "cell_type": "code",
   "execution_count": 131,
   "id": "c5bdd41f",
   "metadata": {},
   "outputs": [
    {
     "data": {
      "text/plain": [
       "업종명         5\n",
       "업소명         5\n",
       "소재지(도로명)    5\n",
       "소재지(지번)     5\n",
       "소재지전화       2\n",
       "업태명         5\n",
       "dtype: int64"
      ]
     },
     "execution_count": 131,
     "metadata": {},
     "output_type": "execute_result"
    }
   ],
   "source": [
    "df[(df['업태명']=='패밀리레스트랑')].count()"
   ]
  },
  {
   "cell_type": "code",
   "execution_count": 132,
   "id": "b1252d8b",
   "metadata": {},
   "outputs": [
    {
     "data": {
      "text/plain": [
       "업종명         3\n",
       "업소명         3\n",
       "소재지(도로명)    3\n",
       "소재지(지번)     3\n",
       "소재지전화       3\n",
       "업태명         3\n",
       "dtype: int64"
      ]
     },
     "execution_count": 132,
     "metadata": {},
     "output_type": "execute_result"
    }
   ],
   "source": [
    "df[(df['업태명']=='키즈카페')].count()"
   ]
  },
  {
   "cell_type": "code",
   "execution_count": 167,
   "id": "60132773",
   "metadata": {},
   "outputs": [
    {
     "data": {
      "text/html": [
       "<div>\n",
       "<style scoped>\n",
       "    .dataframe tbody tr th:only-of-type {\n",
       "        vertical-align: middle;\n",
       "    }\n",
       "\n",
       "    .dataframe tbody tr th {\n",
       "        vertical-align: top;\n",
       "    }\n",
       "\n",
       "    .dataframe thead th {\n",
       "        text-align: right;\n",
       "    }\n",
       "</style>\n",
       "<table border=\"1\" class=\"dataframe\">\n",
       "  <thead>\n",
       "    <tr style=\"text-align: right;\">\n",
       "      <th></th>\n",
       "      <th>업태명</th>\n",
       "      <th>업태명 수</th>\n",
       "      <th>순위</th>\n",
       "    </tr>\n",
       "  </thead>\n",
       "  <tbody>\n",
       "    <tr>\n",
       "      <th>0</th>\n",
       "      <td>한식</td>\n",
       "      <td>2403</td>\n",
       "      <td>1.0</td>\n",
       "    </tr>\n",
       "    <tr>\n",
       "      <th>1</th>\n",
       "      <td>호프/통닭</td>\n",
       "      <td>623</td>\n",
       "      <td>2.0</td>\n",
       "    </tr>\n",
       "    <tr>\n",
       "      <th>2</th>\n",
       "      <td>중국식</td>\n",
       "      <td>162</td>\n",
       "      <td>10.0</td>\n",
       "    </tr>\n",
       "    <tr>\n",
       "      <th>3</th>\n",
       "      <td>분식</td>\n",
       "      <td>282</td>\n",
       "      <td>6.0</td>\n",
       "    </tr>\n",
       "    <tr>\n",
       "      <th>4</th>\n",
       "      <td>식육(숯불구이)</td>\n",
       "      <td>328</td>\n",
       "      <td>4.0</td>\n",
       "    </tr>\n",
       "    <tr>\n",
       "      <th>5</th>\n",
       "      <td>통닭(치킨)</td>\n",
       "      <td>165</td>\n",
       "      <td>9.0</td>\n",
       "    </tr>\n",
       "    <tr>\n",
       "      <th>6</th>\n",
       "      <td>패스트푸드</td>\n",
       "      <td>40</td>\n",
       "      <td>13.0</td>\n",
       "    </tr>\n",
       "    <tr>\n",
       "      <th>7</th>\n",
       "      <td>까페</td>\n",
       "      <td>70</td>\n",
       "      <td>11.0</td>\n",
       "    </tr>\n",
       "    <tr>\n",
       "      <th>8</th>\n",
       "      <td>정종/대포집/소주방</td>\n",
       "      <td>318</td>\n",
       "      <td>5.0</td>\n",
       "    </tr>\n",
       "    <tr>\n",
       "      <th>9</th>\n",
       "      <td>횟집</td>\n",
       "      <td>58</td>\n",
       "      <td>12.0</td>\n",
       "    </tr>\n",
       "    <tr>\n",
       "      <th>10</th>\n",
       "      <td>기타</td>\n",
       "      <td>225</td>\n",
       "      <td>7.0</td>\n",
       "    </tr>\n",
       "    <tr>\n",
       "      <th>11</th>\n",
       "      <td>뷔페식</td>\n",
       "      <td>26</td>\n",
       "      <td>16.0</td>\n",
       "    </tr>\n",
       "    <tr>\n",
       "      <th>12</th>\n",
       "      <td>일식</td>\n",
       "      <td>183</td>\n",
       "      <td>8.0</td>\n",
       "    </tr>\n",
       "    <tr>\n",
       "      <th>13</th>\n",
       "      <td>경양식</td>\n",
       "      <td>352</td>\n",
       "      <td>3.0</td>\n",
       "    </tr>\n",
       "    <tr>\n",
       "      <th>14</th>\n",
       "      <td>전통찻집</td>\n",
       "      <td>4</td>\n",
       "      <td>19.0</td>\n",
       "    </tr>\n",
       "    <tr>\n",
       "      <th>15</th>\n",
       "      <td>김밥(도시락)</td>\n",
       "      <td>31</td>\n",
       "      <td>14.0</td>\n",
       "    </tr>\n",
       "    <tr>\n",
       "      <th>16</th>\n",
       "      <td>외국음식전문점(인도,태국등)</td>\n",
       "      <td>28</td>\n",
       "      <td>15.0</td>\n",
       "    </tr>\n",
       "    <tr>\n",
       "      <th>17</th>\n",
       "      <td>탕류(보신용)</td>\n",
       "      <td>7</td>\n",
       "      <td>17.0</td>\n",
       "    </tr>\n",
       "    <tr>\n",
       "      <th>18</th>\n",
       "      <td>출장조리</td>\n",
       "      <td>2</td>\n",
       "      <td>21.0</td>\n",
       "    </tr>\n",
       "    <tr>\n",
       "      <th>19</th>\n",
       "      <td>복어취급</td>\n",
       "      <td>4</td>\n",
       "      <td>19.0</td>\n",
       "    </tr>\n",
       "    <tr>\n",
       "      <th>20</th>\n",
       "      <td>라이브카페</td>\n",
       "      <td>3</td>\n",
       "      <td>20.0</td>\n",
       "    </tr>\n",
       "    <tr>\n",
       "      <th>21</th>\n",
       "      <td>패밀리레스트랑</td>\n",
       "      <td>5</td>\n",
       "      <td>18.0</td>\n",
       "    </tr>\n",
       "    <tr>\n",
       "      <th>22</th>\n",
       "      <td>키즈카페</td>\n",
       "      <td>3</td>\n",
       "      <td>20.0</td>\n",
       "    </tr>\n",
       "  </tbody>\n",
       "</table>\n",
       "</div>"
      ],
      "text/plain": [
       "                업태명  업태명 수    순위\n",
       "0                한식   2403   1.0\n",
       "1             호프/통닭    623   2.0\n",
       "2               중국식    162  10.0\n",
       "3                분식    282   6.0\n",
       "4          식육(숯불구이)    328   4.0\n",
       "5            통닭(치킨)    165   9.0\n",
       "6             패스트푸드     40  13.0\n",
       "7                까페     70  11.0\n",
       "8        정종/대포집/소주방    318   5.0\n",
       "9                횟집     58  12.0\n",
       "10               기타    225   7.0\n",
       "11              뷔페식     26  16.0\n",
       "12               일식    183   8.0\n",
       "13              경양식    352   3.0\n",
       "14             전통찻집      4  19.0\n",
       "15          김밥(도시락)     31  14.0\n",
       "16  외국음식전문점(인도,태국등)     28  15.0\n",
       "17          탕류(보신용)      7  17.0\n",
       "18             출장조리      2  21.0\n",
       "19             복어취급      4  19.0\n",
       "20            라이브카페      3  20.0\n",
       "21          패밀리레스트랑      5  18.0\n",
       "22             키즈카페      3  20.0"
      ]
     },
     "execution_count": 167,
     "metadata": {},
     "output_type": "execute_result"
    }
   ],
   "source": [
    "df = pd.DataFrame(\n",
    "    {'업태명':['한식', '호프/통닭', '중국식', '분식', '식육(숯불구이)', '통닭(치킨)', '패스트푸드', '까페',\n",
    "       '정종/대포집/소주방', '횟집', '기타', '뷔페식', '일식', '경양식', '전통찻집', '김밥(도시락)',\n",
    "       '외국음식전문점(인도,태국등)', '탕류(보신용)', '출장조리', '복어취급', '라이브카페', '패밀리레스트랑',\n",
    "       '키즈카페'],\n",
    "    '업태명 수': [ 2403, 623, 162, 282, 328, 165, 40, 70, 318, 58, 225, 26, 183, 352, 4, 31, 28, 7, 2, 4, \n",
    "              3, 5, 3 ]})\n",
    "df['순위']=df['업태명 수'].rank(method='dense',ascending=False)\n",
    "df"
   ]
  }
 ],
 "metadata": {
  "kernelspec": {
   "display_name": "Python 3",
   "language": "python",
   "name": "python3"
  },
  "language_info": {
   "codemirror_mode": {
    "name": "ipython",
    "version": 3
   },
   "file_extension": ".py",
   "mimetype": "text/x-python",
   "name": "python",
   "nbconvert_exporter": "python",
   "pygments_lexer": "ipython3",
   "version": "3.8.8"
  }
 },
 "nbformat": 4,
 "nbformat_minor": 5
}
