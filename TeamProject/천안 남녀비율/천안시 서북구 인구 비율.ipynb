{
 "cells": [
  {
   "cell_type": "code",
   "execution_count": 1,
   "id": "6a250e5d",
   "metadata": {},
   "outputs": [
    {
     "data": {
      "text/html": [
       "<div>\n",
       "<style scoped>\n",
       "    .dataframe tbody tr th:only-of-type {\n",
       "        vertical-align: middle;\n",
       "    }\n",
       "\n",
       "    .dataframe tbody tr th {\n",
       "        vertical-align: top;\n",
       "    }\n",
       "\n",
       "    .dataframe thead th {\n",
       "        text-align: right;\n",
       "    }\n",
       "</style>\n",
       "<table border=\"1\" class=\"dataframe\">\n",
       "  <thead>\n",
       "    <tr style=\"text-align: right;\">\n",
       "      <th></th>\n",
       "      <th>행정구역</th>\n",
       "      <th>총인구수</th>\n",
       "      <th>세대수</th>\n",
       "      <th>남자 인구수</th>\n",
       "      <th>여자 인구수</th>\n",
       "      <th>남여 비율</th>\n",
       "    </tr>\n",
       "  </thead>\n",
       "  <tbody>\n",
       "    <tr>\n",
       "      <th>0</th>\n",
       "      <td>충청남도 천안시</td>\n",
       "      <td>658107</td>\n",
       "      <td>297013</td>\n",
       "      <td>336326</td>\n",
       "      <td>321781</td>\n",
       "      <td>1.05</td>\n",
       "    </tr>\n",
       "    <tr>\n",
       "      <th>1</th>\n",
       "      <td>충청남도 천안시 동남구</td>\n",
       "      <td>255504</td>\n",
       "      <td>116752</td>\n",
       "      <td>129471</td>\n",
       "      <td>126033</td>\n",
       "      <td>1.03</td>\n",
       "    </tr>\n",
       "    <tr>\n",
       "      <th>2</th>\n",
       "      <td>충청남도 천안시 동남구 목천읍</td>\n",
       "      <td>24325</td>\n",
       "      <td>11322</td>\n",
       "      <td>12451</td>\n",
       "      <td>11874</td>\n",
       "      <td>1.05</td>\n",
       "    </tr>\n",
       "    <tr>\n",
       "      <th>3</th>\n",
       "      <td>충청남도 천안시 동남구 풍세면</td>\n",
       "      <td>4080</td>\n",
       "      <td>2176</td>\n",
       "      <td>2243</td>\n",
       "      <td>1837</td>\n",
       "      <td>1.22</td>\n",
       "    </tr>\n",
       "    <tr>\n",
       "      <th>4</th>\n",
       "      <td>충청남도 천안시 동남구 광덕면</td>\n",
       "      <td>4298</td>\n",
       "      <td>2370</td>\n",
       "      <td>2160</td>\n",
       "      <td>2138</td>\n",
       "      <td>1.01</td>\n",
       "    </tr>\n",
       "    <tr>\n",
       "      <th>5</th>\n",
       "      <td>충청남도 천안시 동남구 북면</td>\n",
       "      <td>4341</td>\n",
       "      <td>2448</td>\n",
       "      <td>2268</td>\n",
       "      <td>2073</td>\n",
       "      <td>1.09</td>\n",
       "    </tr>\n",
       "    <tr>\n",
       "      <th>6</th>\n",
       "      <td>충청남도 천안시 동남구 성남면</td>\n",
       "      <td>3100</td>\n",
       "      <td>1632</td>\n",
       "      <td>1619</td>\n",
       "      <td>1481</td>\n",
       "      <td>1.09</td>\n",
       "    </tr>\n",
       "    <tr>\n",
       "      <th>7</th>\n",
       "      <td>충청남도 천안시 동남구 수신면</td>\n",
       "      <td>2261</td>\n",
       "      <td>1298</td>\n",
       "      <td>1231</td>\n",
       "      <td>1030</td>\n",
       "      <td>1.20</td>\n",
       "    </tr>\n",
       "    <tr>\n",
       "      <th>8</th>\n",
       "      <td>충청남도 천안시 동남구 병천면</td>\n",
       "      <td>6138</td>\n",
       "      <td>3424</td>\n",
       "      <td>3271</td>\n",
       "      <td>2867</td>\n",
       "      <td>1.14</td>\n",
       "    </tr>\n",
       "    <tr>\n",
       "      <th>9</th>\n",
       "      <td>충청남도 천안시 동남구 동면</td>\n",
       "      <td>2083</td>\n",
       "      <td>1180</td>\n",
       "      <td>1118</td>\n",
       "      <td>965</td>\n",
       "      <td>1.16</td>\n",
       "    </tr>\n",
       "    <tr>\n",
       "      <th>10</th>\n",
       "      <td>충청남도 천안시 동남구 중앙동</td>\n",
       "      <td>5386</td>\n",
       "      <td>3156</td>\n",
       "      <td>2825</td>\n",
       "      <td>2561</td>\n",
       "      <td>1.10</td>\n",
       "    </tr>\n",
       "    <tr>\n",
       "      <th>11</th>\n",
       "      <td>충청남도 천안시 동남구 문성동</td>\n",
       "      <td>4334</td>\n",
       "      <td>2598</td>\n",
       "      <td>2267</td>\n",
       "      <td>2067</td>\n",
       "      <td>1.10</td>\n",
       "    </tr>\n",
       "    <tr>\n",
       "      <th>12</th>\n",
       "      <td>충청남도 천안시 동남구 원성1동</td>\n",
       "      <td>8627</td>\n",
       "      <td>4243</td>\n",
       "      <td>4454</td>\n",
       "      <td>4173</td>\n",
       "      <td>1.07</td>\n",
       "    </tr>\n",
       "    <tr>\n",
       "      <th>13</th>\n",
       "      <td>충청남도 천안시 동남구 원성2동</td>\n",
       "      <td>9209</td>\n",
       "      <td>4844</td>\n",
       "      <td>4730</td>\n",
       "      <td>4479</td>\n",
       "      <td>1.06</td>\n",
       "    </tr>\n",
       "    <tr>\n",
       "      <th>14</th>\n",
       "      <td>충청남도 천안시 동남구 봉명동</td>\n",
       "      <td>18071</td>\n",
       "      <td>9170</td>\n",
       "      <td>9270</td>\n",
       "      <td>8801</td>\n",
       "      <td>1.05</td>\n",
       "    </tr>\n",
       "    <tr>\n",
       "      <th>15</th>\n",
       "      <td>충청남도 천안시 동남구 일봉동</td>\n",
       "      <td>23088</td>\n",
       "      <td>8697</td>\n",
       "      <td>11488</td>\n",
       "      <td>11600</td>\n",
       "      <td>0.99</td>\n",
       "    </tr>\n",
       "    <tr>\n",
       "      <th>16</th>\n",
       "      <td>충청남도 천안시 동남구 신방동</td>\n",
       "      <td>44438</td>\n",
       "      <td>18514</td>\n",
       "      <td>22712</td>\n",
       "      <td>21726</td>\n",
       "      <td>1.05</td>\n",
       "    </tr>\n",
       "    <tr>\n",
       "      <th>17</th>\n",
       "      <td>충청남도 천안시 동남구 청룡동</td>\n",
       "      <td>54964</td>\n",
       "      <td>21421</td>\n",
       "      <td>27457</td>\n",
       "      <td>27507</td>\n",
       "      <td>1.00</td>\n",
       "    </tr>\n",
       "    <tr>\n",
       "      <th>18</th>\n",
       "      <td>충청남도 천안시 동남구 신안동</td>\n",
       "      <td>36761</td>\n",
       "      <td>18259</td>\n",
       "      <td>17907</td>\n",
       "      <td>18854</td>\n",
       "      <td>0.95</td>\n",
       "    </tr>\n",
       "    <tr>\n",
       "      <th>19</th>\n",
       "      <td>충청남도 천안시 서북구</td>\n",
       "      <td>402603</td>\n",
       "      <td>180261</td>\n",
       "      <td>206855</td>\n",
       "      <td>195748</td>\n",
       "      <td>1.06</td>\n",
       "    </tr>\n",
       "    <tr>\n",
       "      <th>20</th>\n",
       "      <td>충청남도 천안시 서북구 성환읍</td>\n",
       "      <td>23851</td>\n",
       "      <td>11191</td>\n",
       "      <td>12444</td>\n",
       "      <td>11407</td>\n",
       "      <td>1.09</td>\n",
       "    </tr>\n",
       "    <tr>\n",
       "      <th>21</th>\n",
       "      <td>충청남도 천안시 서북구 성거읍</td>\n",
       "      <td>21561</td>\n",
       "      <td>9639</td>\n",
       "      <td>11307</td>\n",
       "      <td>10254</td>\n",
       "      <td>1.10</td>\n",
       "    </tr>\n",
       "    <tr>\n",
       "      <th>22</th>\n",
       "      <td>충청남도 천안시 서북구 직산읍</td>\n",
       "      <td>20004</td>\n",
       "      <td>9715</td>\n",
       "      <td>10899</td>\n",
       "      <td>9105</td>\n",
       "      <td>1.20</td>\n",
       "    </tr>\n",
       "    <tr>\n",
       "      <th>23</th>\n",
       "      <td>충청남도 천안시 서북구 입장면</td>\n",
       "      <td>8434</td>\n",
       "      <td>4486</td>\n",
       "      <td>4560</td>\n",
       "      <td>3874</td>\n",
       "      <td>1.18</td>\n",
       "    </tr>\n",
       "    <tr>\n",
       "      <th>24</th>\n",
       "      <td>충청남도 천안시 서북구 성정1동</td>\n",
       "      <td>17508</td>\n",
       "      <td>9579</td>\n",
       "      <td>9224</td>\n",
       "      <td>8284</td>\n",
       "      <td>1.11</td>\n",
       "    </tr>\n",
       "    <tr>\n",
       "      <th>25</th>\n",
       "      <td>충청남도 천안시 서북구 성정2동</td>\n",
       "      <td>25813</td>\n",
       "      <td>17531</td>\n",
       "      <td>13950</td>\n",
       "      <td>11863</td>\n",
       "      <td>1.18</td>\n",
       "    </tr>\n",
       "    <tr>\n",
       "      <th>26</th>\n",
       "      <td>충청남도 천안시 서북구 쌍용1동</td>\n",
       "      <td>13806</td>\n",
       "      <td>6285</td>\n",
       "      <td>6772</td>\n",
       "      <td>7034</td>\n",
       "      <td>0.96</td>\n",
       "    </tr>\n",
       "    <tr>\n",
       "      <th>27</th>\n",
       "      <td>충청남도 천안시 서북구 쌍용2동</td>\n",
       "      <td>37381</td>\n",
       "      <td>14644</td>\n",
       "      <td>18384</td>\n",
       "      <td>18997</td>\n",
       "      <td>0.97</td>\n",
       "    </tr>\n",
       "    <tr>\n",
       "      <th>28</th>\n",
       "      <td>충청남도 천안시 서북구 쌍용3동</td>\n",
       "      <td>18787</td>\n",
       "      <td>8111</td>\n",
       "      <td>9069</td>\n",
       "      <td>9718</td>\n",
       "      <td>0.93</td>\n",
       "    </tr>\n",
       "    <tr>\n",
       "      <th>29</th>\n",
       "      <td>충청남도 천안시 서북구 백석동</td>\n",
       "      <td>40541</td>\n",
       "      <td>14525</td>\n",
       "      <td>20367</td>\n",
       "      <td>20174</td>\n",
       "      <td>1.01</td>\n",
       "    </tr>\n",
       "    <tr>\n",
       "      <th>30</th>\n",
       "      <td>충청남도 천안시 서북구 불당동</td>\n",
       "      <td>70350</td>\n",
       "      <td>26613</td>\n",
       "      <td>35274</td>\n",
       "      <td>35076</td>\n",
       "      <td>1.01</td>\n",
       "    </tr>\n",
       "    <tr>\n",
       "      <th>31</th>\n",
       "      <td>충청남도 천안시 서북구 부성1동</td>\n",
       "      <td>47097</td>\n",
       "      <td>23292</td>\n",
       "      <td>24294</td>\n",
       "      <td>22803</td>\n",
       "      <td>1.07</td>\n",
       "    </tr>\n",
       "    <tr>\n",
       "      <th>32</th>\n",
       "      <td>충청남도 천안시 서북구 부성2동</td>\n",
       "      <td>57470</td>\n",
       "      <td>24650</td>\n",
       "      <td>30311</td>\n",
       "      <td>27159</td>\n",
       "      <td>1.12</td>\n",
       "    </tr>\n",
       "  </tbody>\n",
       "</table>\n",
       "</div>"
      ],
      "text/plain": [
       "                 행정구역    총인구수     세대수  남자 인구수  여자 인구수  남여 비율\n",
       "0            충청남도 천안시  658107  297013  336326  321781   1.05\n",
       "1        충청남도 천안시 동남구  255504  116752  129471  126033   1.03\n",
       "2    충청남도 천안시 동남구 목천읍   24325   11322   12451   11874   1.05\n",
       "3    충청남도 천안시 동남구 풍세면    4080    2176    2243    1837   1.22\n",
       "4    충청남도 천안시 동남구 광덕면    4298    2370    2160    2138   1.01\n",
       "5     충청남도 천안시 동남구 북면    4341    2448    2268    2073   1.09\n",
       "6    충청남도 천안시 동남구 성남면    3100    1632    1619    1481   1.09\n",
       "7    충청남도 천안시 동남구 수신면    2261    1298    1231    1030   1.20\n",
       "8    충청남도 천안시 동남구 병천면    6138    3424    3271    2867   1.14\n",
       "9     충청남도 천안시 동남구 동면    2083    1180    1118     965   1.16\n",
       "10   충청남도 천안시 동남구 중앙동    5386    3156    2825    2561   1.10\n",
       "11   충청남도 천안시 동남구 문성동    4334    2598    2267    2067   1.10\n",
       "12  충청남도 천안시 동남구 원성1동    8627    4243    4454    4173   1.07\n",
       "13  충청남도 천안시 동남구 원성2동    9209    4844    4730    4479   1.06\n",
       "14   충청남도 천안시 동남구 봉명동   18071    9170    9270    8801   1.05\n",
       "15   충청남도 천안시 동남구 일봉동   23088    8697   11488   11600   0.99\n",
       "16   충청남도 천안시 동남구 신방동   44438   18514   22712   21726   1.05\n",
       "17   충청남도 천안시 동남구 청룡동   54964   21421   27457   27507   1.00\n",
       "18   충청남도 천안시 동남구 신안동   36761   18259   17907   18854   0.95\n",
       "19       충청남도 천안시 서북구  402603  180261  206855  195748   1.06\n",
       "20   충청남도 천안시 서북구 성환읍   23851   11191   12444   11407   1.09\n",
       "21   충청남도 천안시 서북구 성거읍   21561    9639   11307   10254   1.10\n",
       "22   충청남도 천안시 서북구 직산읍   20004    9715   10899    9105   1.20\n",
       "23   충청남도 천안시 서북구 입장면    8434    4486    4560    3874   1.18\n",
       "24  충청남도 천안시 서북구 성정1동   17508    9579    9224    8284   1.11\n",
       "25  충청남도 천안시 서북구 성정2동   25813   17531   13950   11863   1.18\n",
       "26  충청남도 천안시 서북구 쌍용1동   13806    6285    6772    7034   0.96\n",
       "27  충청남도 천안시 서북구 쌍용2동   37381   14644   18384   18997   0.97\n",
       "28  충청남도 천안시 서북구 쌍용3동   18787    8111    9069    9718   0.93\n",
       "29   충청남도 천안시 서북구 백석동   40541   14525   20367   20174   1.01\n",
       "30   충청남도 천안시 서북구 불당동   70350   26613   35274   35076   1.01\n",
       "31  충청남도 천안시 서북구 부성1동   47097   23292   24294   22803   1.07\n",
       "32  충청남도 천안시 서북구 부성2동   57470   24650   30311   27159   1.12"
      ]
     },
     "execution_count": 1,
     "metadata": {},
     "output_type": "execute_result"
    }
   ],
   "source": [
    "import csv\n",
    "import pandas as pd\n",
    "\n",
    "df=pd.read_csv('gend.csv')\n",
    "df"
   ]
  },
  {
   "cell_type": "code",
   "execution_count": 2,
   "id": "7e93970e",
   "metadata": {},
   "outputs": [
    {
     "data": {
      "text/plain": [
       "206855.0"
      ]
     },
     "execution_count": 2,
     "metadata": {},
     "output_type": "execute_result"
    }
   ],
   "source": [
    "df[df['행정구역']=='충청남도 천안시 서북구']['남자 인구수'].mean()"
   ]
  },
  {
   "cell_type": "code",
   "execution_count": 3,
   "id": "6a360879",
   "metadata": {},
   "outputs": [
    {
     "data": {
      "text/plain": [
       "195748.0"
      ]
     },
     "execution_count": 3,
     "metadata": {},
     "output_type": "execute_result"
    }
   ],
   "source": [
    "df[df['행정구역']=='충청남도 천안시 서북구']['여자 인구수'].mean()"
   ]
  },
  {
   "cell_type": "code",
   "execution_count": 12,
   "id": "6364cd83",
   "metadata": {},
   "outputs": [],
   "source": [
    "Male=df[df['행정구역']=='충청남도 천안시 서북구']['남자 인구수']\n",
    "Female=df[df['행정구역']=='충청남도 천안시 서북구']['여자 인구수']"
   ]
  },
  {
   "cell_type": "code",
   "execution_count": 13,
   "id": "a9db439d",
   "metadata": {},
   "outputs": [
    {
     "data": {
      "image/png": "[encoded data removed]",
      "text/plain": [
       "<Figure size 432x288 with 1 Axes>"
      ]
     },
     "metadata": {},
     "output_type": "display_data"
    },
    {
     "name": "stdout",
     "output_type": "stream",
     "text": [
      "남자 인구수가 더 많습니다.\n"
     ]
    }
   ],
   "source": [
    "import matplotlib.pyplot as plt\n",
    "\n",
    "plt.rcParams['font.family']='NanumGothic'\n",
    "ratio=[Male.mean(),Female.mean()]\n",
    "\n",
    "labels=['남자 인구수','여자 인구수']\n",
    "plt.title('충청남도 천안시 서북구')\n",
    "\n",
    "plt.pie(ratio,labels=labels,autopct='%.1f%%')\n",
    "plt.show()\n",
    "\n",
    "if Male.mean()>Female.mean():\n",
    "    print('남자 인구수가 더 많습니다.')\n",
    "elif Male.mean()<Female.mean():\n",
    "    print('여자 인구수가 더 많습니다.')"
   ]
  },
  {
   "cell_type": "code",
   "execution_count": 9,
   "id": "2a061def",
   "metadata": {},
   "outputs": [],
   "source": [
    "Male=df[df['행정구역']=='충청남도 천안시 서북구 성환읍']['남자 인구수']\n",
    "Female=df[df['행정구역']=='충청남도 천안시 서북구 성환읍']['여자 인구수']"
   ]
  },
  {
   "cell_type": "code",
   "execution_count": 10,
   "id": "191192a8",
   "metadata": {},
   "outputs": [
    {
     "data": {
      "image/png": "[encoded data removed]",
      "text/plain": [
       "<Figure size 432x288 with 1 Axes>"
      ]
     },
     "metadata": {},
     "output_type": "display_data"
    },
    {
     "name": "stdout",
     "output_type": "stream",
     "text": [
      "남자 인구수가 더 많습니다.\n"
     ]
    }
   ],
   "source": [
    "import matplotlib.pyplot as plt\n",
    "\n",
    "plt.rcParams['font.family']='NanumGothic'\n",
    "ratio=[Male.mean(),Female.mean()]\n",
    "\n",
    "\n",
    "labels=['남자 인구수','여자 인구수']\n",
    "plt.title('충청남도 천안시 서북구 성환읍')\n",
    "\n",
    "plt.pie(ratio,labels=labels,autopct='%.1f%%')\n",
    "plt.show()\n",
    "\n",
    "if Male.mean()>Female.mean():\n",
    "    print('남자 인구수가 더 많습니다.')\n",
    "elif Male.mean()<Female.mean():\n",
    "    print('여자 인구수가 더 많습니다.')"
   ]
  },
  {
   "cell_type": "code",
   "execution_count": 14,
   "id": "5925ad6c",
   "metadata": {},
   "outputs": [],
   "source": [
    "Male=df[df['행정구역']=='충청남도 천안시 서북구 성거읍']['남자 인구수']\n",
    "Female=df[df['행정구역']=='충청남도 천안시 서북구 성거읍']['여자 인구수']"
   ]
  },
  {
   "cell_type": "code",
   "execution_count": 15,
   "id": "79bbe7ce",
   "metadata": {},
   "outputs": [
    {
     "data": {
      "image/png": "[encoded data removed]",
      "text/plain": [
       "<Figure size 432x288 with 1 Axes>"
      ]
     },
     "metadata": {},
     "output_type": "display_data"
    },
    {
     "name": "stdout",
     "output_type": "stream",
     "text": [
      "남자 인구수가 더 많습니다.\n"
     ]
    }
   ],
   "source": [
    "import matplotlib.pyplot as plt\n",
    "\n",
    "plt.rcParams['font.family']='NanumGothic'\n",
    "ratio=[Male.mean(),Female.mean()]\n",
    "\n",
    "\n",
    "labels=['남자 인구수','여자 인구수']\n",
    "plt.title('충청남도 천안시 서북구 성거읍')\n",
    "\n",
    "plt.pie(ratio,labels=labels,autopct='%.1f%%')\n",
    "plt.show()\n",
    "\n",
    "if Male.mean()>Female.mean():\n",
    "    print('남자 인구수가 더 많습니다.')\n",
    "elif Male.mean()<Female.mean():\n",
    "    print('여자 인구수가 더 많습니다.')"
   ]
  },
  {
   "cell_type": "code",
   "execution_count": 16,
   "id": "27bbd290",
   "metadata": {},
   "outputs": [],
   "source": [
    "Male=df[df['행정구역']=='충청남도 천안시 서북구 직산읍']['남자 인구수']\n",
    "Female=df[df['행정구역']=='충청남도 천안시 서북구 직산읍']['여자 인구수']"
   ]
  },
  {
   "cell_type": "code",
   "execution_count": 17,
   "id": "a0adbaba",
   "metadata": {},
   "outputs": [
    {
     "data": {
      "image/png": "[encoded data removed]",
      "text/plain": [
       "<Figure size 432x288 with 1 Axes>"
      ]
     },
     "metadata": {},
     "output_type": "display_data"
    },
    {
     "name": "stdout",
     "output_type": "stream",
     "text": [
      "남자 인구수가 더 많습니다.\n"
     ]
    }
   ],
   "source": [
    "import matplotlib.pyplot as plt\n",
    "\n",
    "plt.rcParams['font.family']='NanumGothic'\n",
    "ratio=[Male.mean(),Female.mean()]\n",
    "\n",
    "\n",
    "labels=['남자 인구수','여자 인구수']\n",
    "plt.title('충청남도 천안시 서북구 직산읍')\n",
    "\n",
    "plt.pie(ratio,labels=labels,autopct='%.1f%%')\n",
    "plt.show()\n",
    "\n",
    "if Male.mean()>Female.mean():\n",
    "    print('남자 인구수가 더 많습니다.')\n",
    "elif Male.mean()<Female.mean():\n",
    "    print('여자 인구수가 더 많습니다.')"
   ]
  },
  {
   "cell_type": "code",
   "execution_count": 18,
   "id": "6a931359",
   "metadata": {},
   "outputs": [],
   "source": [
    "Male=df[df['행정구역']=='충청남도 천안시 서북구 입장면']['남자 인구수']\n",
    "Female=df[df['행정구역']=='충청남도 천안시 서북구 입장면']['여자 인구수']"
   ]
  },
  {
   "cell_type": "code",
   "execution_count": 19,
   "id": "0289993d",
   "metadata": {},
   "outputs": [
    {
     "data": {
      "image/png": "[encoded data removed]",
      "text/plain": [
       "<Figure size 432x288 with 1 Axes>"
      ]
     },
     "metadata": {},
     "output_type": "display_data"
    },
    {
     "name": "stdout",
     "output_type": "stream",
     "text": [
      "남자 인구수가 더 많습니다.\n"
     ]
    }
   ],
   "source": [
    "import matplotlib.pyplot as plt\n",
    "\n",
    "plt.rcParams['font.family']='NanumGothic'\n",
    "ratio=[Male.mean(),Female.mean()]\n",
    "\n",
    "\n",
    "labels=['남자 인구수','여자 인구수']\n",
    "plt.title('충청남도 천안시 서북구 입장면')\n",
    "\n",
    "plt.pie(ratio,labels=labels,autopct='%.1f%%')\n",
    "plt.show()\n",
    "\n",
    "if Male.mean()>Female.mean():\n",
    "    print('남자 인구수가 더 많습니다.')\n",
    "elif Male.mean()<Female.mean():\n",
    "    print('여자 인구수가 더 많습니다.')"
   ]
  },
  {
   "cell_type": "code",
   "execution_count": 20,
   "id": "fac5b6e0",
   "metadata": {},
   "outputs": [],
   "source": [
    "Male=df[df['행정구역']=='충청남도 천안시 서북구 성정1동']['남자 인구수']\n",
    "Female=df[df['행정구역']=='충청남도 천안시 서북구 성정1동']['여자 인구수']"
   ]
  },
  {
   "cell_type": "code",
   "execution_count": 21,
   "id": "9c379231",
   "metadata": {},
   "outputs": [
    {
     "data": {
      "image/png": "[encoded data removed]",
      "text/plain": [
       "<Figure size 432x288 with 1 Axes>"
      ]
     },
     "metadata": {},
     "output_type": "display_data"
    },
    {
     "name": "stdout",
     "output_type": "stream",
     "text": [
      "남자 인구수가 더 많습니다.\n"
     ]
    }
   ],
   "source": [
    "import matplotlib.pyplot as plt\n",
    "\n",
    "plt.rcParams['font.family']='NanumGothic'\n",
    "ratio=[Male.mean(),Female.mean()]\n",
    "\n",
    "\n",
    "labels=['남자 인구수','여자 인구수']\n",
    "plt.title('충청남도 천안시 서북구 성정1동')\n",
    "\n",
    "plt.pie(ratio,labels=labels,autopct='%.1f%%')\n",
    "plt.show()\n",
    "\n",
    "if Male.mean()>Female.mean():\n",
    "    print('남자 인구수가 더 많습니다.')\n",
    "elif Male.mean()<Female.mean():\n",
    "    print('여자 인구수가 더 많습니다.')"
   ]
  },
  {
   "cell_type": "code",
   "execution_count": 22,
   "id": "4f77bb0d",
   "metadata": {},
   "outputs": [],
   "source": [
    "Male=df[df['행정구역']=='충청남도 천안시 서북구 성정2동']['남자 인구수']\n",
    "Female=df[df['행정구역']=='충청남도 천안시 서북구 성정2동']['여자 인구수']"
   ]
  },
  {
   "cell_type": "code",
   "execution_count": 23,
   "id": "2487fabd",
   "metadata": {},
   "outputs": [
    {
     "data": {
      "image/png": "[encoded data removed]",
      "text/plain": [
       "<Figure size 432x288 with 1 Axes>"
      ]
     },
     "metadata": {},
     "output_type": "display_data"
    },
    {
     "name": "stdout",
     "output_type": "stream",
     "text": [
      "남자 인구수가 더 많습니다.\n"
     ]
    }
   ],
   "source": [
    "import matplotlib.pyplot as plt\n",
    "\n",
    "plt.rcParams['font.family']='NanumGothic'\n",
    "ratio=[Male.mean(),Female.mean()]\n",
    "\n",
    "\n",
    "labels=['남자 인구수','여자 인구수']\n",
    "plt.title('충청남도 천안시 서북구 성정2동')\n",
    "\n",
    "plt.pie(ratio,labels=labels,autopct='%.1f%%')\n",
    "plt.show()\n",
    "\n",
    "if Male.mean()>Female.mean():\n",
    "    print('남자 인구수가 더 많습니다.')\n",
    "elif Male.mean()<Female.mean():\n",
    "    print('여자 인구수가 더 많습니다.')"
   ]
  },
  {
   "cell_type": "code",
   "execution_count": 24,
   "id": "e11ba5c5",
   "metadata": {},
   "outputs": [],
   "source": [
    "Male=df[df['행정구역']=='충청남도 천안시 서북구 쌍용1동']['남자 인구수']\n",
    "Female=df[df['행정구역']=='충청남도 천안시 서북구 쌍용1동']['여자 인구수']"
   ]
  },
  {
   "cell_type": "code",
   "execution_count": 25,
   "id": "4c03e67c",
   "metadata": {},
   "outputs": [
    {
     "data": {
      "image/png": "[encoded data removed]",
      "text/plain": [
       "<Figure size 432x288 with 1 Axes>"
      ]
     },
     "metadata": {},
     "output_type": "display_data"
    },
    {
     "name": "stdout",
     "output_type": "stream",
     "text": [
      "여자 인구수가 더 많습니다.\n"
     ]
    }
   ],
   "source": [
    "import matplotlib.pyplot as plt\n",
    "\n",
    "plt.rcParams['font.family']='NanumGothic'\n",
    "ratio=[Male.mean(),Female.mean()]\n",
    "\n",
    "\n",
    "labels=['남자 인구수','여자 인구수']\n",
    "plt.title('충청남도 천안시 서북구 쌍용1동')\n",
    "\n",
    "plt.pie(ratio,labels=labels,autopct='%.1f%%')\n",
    "plt.show()\n",
    "\n",
    "if Male.mean()>Female.mean():\n",
    "    print('남자 인구수가 더 많습니다.')\n",
    "elif Male.mean()<Female.mean():\n",
    "    print('여자 인구수가 더 많습니다.')"
   ]
  },
  {
   "cell_type": "code",
   "execution_count": 26,
   "id": "d415ac97",
   "metadata": {},
   "outputs": [],
   "source": [
    "Male=df[df['행정구역']=='충청남도 천안시 서북구 쌍용2동']['남자 인구수']\n",
    "Female=df[df['행정구역']=='충청남도 천안시 서북구 쌍용2동']['여자 인구수']"
   ]
  },
  {
   "cell_type": "code",
   "execution_count": 27,
   "id": "8e49bba6",
   "metadata": {},
   "outputs": [
    {
     "data": {
      "image/png": "[encoded data removed]",
      "text/plain": [
       "<Figure size 432x288 with 1 Axes>"
      ]
     },
     "metadata": {},
     "output_type": "display_data"
    },
    {
     "name": "stdout",
     "output_type": "stream",
     "text": [
      "여자 인구수가 더 많습니다.\n"
     ]
    }
   ],
   "source": [
    "import matplotlib.pyplot as plt\n",
    "\n",
    "plt.rcParams['font.family']='NanumGothic'\n",
    "ratio=[Male.mean(),Female.mean()]\n",
    "\n",
    "\n",
    "labels=['남자 인구수','여자 인구수']\n",
    "plt.title('충청남도 천안시 서북구 쌍용2동')\n",
    "\n",
    "plt.pie(ratio,labels=labels,autopct='%.1f%%')\n",
    "plt.show()\n",
    "\n",
    "if Male.mean()>Female.mean():\n",
    "    print('남자 인구수가 더 많습니다.')\n",
    "elif Male.mean()<Female.mean():\n",
    "    print('여자 인구수가 더 많습니다.')"
   ]
  },
  {
   "cell_type": "code",
   "execution_count": 28,
   "id": "bb349416",
   "metadata": {},
   "outputs": [],
   "source": [
    "Male=df[df['행정구역']=='충청남도 천안시 서북구 쌍용3동']['남자 인구수']\n",
    "Female=df[df['행정구역']=='충청남도 천안시 서북구 쌍용3동']['여자 인구수']"
   ]
  },
  {
   "cell_type": "code",
   "execution_count": 29,
   "id": "a61efe8a",
   "metadata": {},
   "outputs": [
    {
     "data": {
      "image/png": "[encoded data removed]",
      "text/plain": [
       "<Figure size 432x288 with 1 Axes>"
      ]
     },
     "metadata": {},
     "output_type": "display_data"
    },
    {
     "name": "stdout",
     "output_type": "stream",
     "text": [
      "여자 인구수가 더 많습니다.\n"
     ]
    }
   ],
   "source": [
    "import matplotlib.pyplot as plt\n",
    "\n",
    "plt.rcParams['font.family']='NanumGothic'\n",
    "ratio=[Male.mean(),Female.mean()]\n",
    "\n",
    "\n",
    "labels=['남자 인구수','여자 인구수']\n",
    "plt.title('충청남도 천안시 서북구 쌍용3동')\n",
    "\n",
    "plt.pie(ratio,labels=labels,autopct='%.1f%%')\n",
    "plt.show()\n",
    "\n",
    "if Male.mean()>Female.mean():\n",
    "    print('남자 인구수가 더 많습니다.')\n",
    "elif Male.mean()<Female.mean():\n",
    "    print('여자 인구수가 더 많습니다.')"
   ]
  },
  {
   "cell_type": "code",
   "execution_count": 30,
   "id": "60a62052",
   "metadata": {},
   "outputs": [],
   "source": [
    "Male=df[df['행정구역']=='충청남도 천안시 서북구 백석동']['남자 인구수']\n",
    "Female=df[df['행정구역']=='충청남도 천안시 서북구 백석동']['여자 인구수']"
   ]
  },
  {
   "cell_type": "code",
   "execution_count": 31,
   "id": "f6447bcb",
   "metadata": {},
   "outputs": [
    {
     "data": {
      "image/png": "[encoded data removed]",
      "text/plain": [
       "<Figure size 432x288 with 1 Axes>"
      ]
     },
     "metadata": {},
     "output_type": "display_data"
    },
    {
     "name": "stdout",
     "output_type": "stream",
     "text": [
      "남자 인구수가 더 많습니다.\n"
     ]
    }
   ],
   "source": [
    "import matplotlib.pyplot as plt\n",
    "\n",
    "plt.rcParams['font.family']='NanumGothic'\n",
    "ratio=[Male.mean(),Female.mean()]\n",
    "\n",
    "\n",
    "labels=['남자 인구수','여자 인구수']\n",
    "plt.title('충청남도 천안시 서북구 백석동')\n",
    "\n",
    "plt.pie(ratio,labels=labels,autopct='%.1f%%')\n",
    "plt.show()\n",
    "\n",
    "if Male.mean()>Female.mean():\n",
    "    print('남자 인구수가 더 많습니다.')\n",
    "elif Male.mean()<Female.mean():\n",
    "    print('여자 인구수가 더 많습니다.')"
   ]
  },
  {
   "cell_type": "code",
   "execution_count": 32,
   "id": "159133be",
   "metadata": {},
   "outputs": [],
   "source": [
    "Male=df[df['행정구역']=='충청남도 천안시 서북구 불당동']['남자 인구수']\n",
    "Female=df[df['행정구역']=='충청남도 천안시 서북구 불당동']['여자 인구수']"
   ]
  },
  {
   "cell_type": "code",
   "execution_count": 33,
   "id": "6ce8e9f6",
   "metadata": {},
   "outputs": [
    {
     "data": {
      "image/png": "[encoded data removed]",
      "text/plain": [
       "<Figure size 432x288 with 1 Axes>"
      ]
     },
     "metadata": {},
     "output_type": "display_data"
    },
    {
     "name": "stdout",
     "output_type": "stream",
     "text": [
      "남자 인구수가 더 많습니다.\n"
     ]
    }
   ],
   "source": [
    "import matplotlib.pyplot as plt\n",
    "\n",
    "plt.rcParams['font.family']='NanumGothic'\n",
    "ratio=[Male.mean(),Female.mean()]\n",
    "\n",
    "\n",
    "labels=['남자 인구수','여자 인구수']\n",
    "plt.title('충청남도 천안시 서북구 불당동')\n",
    "\n",
    "plt.pie(ratio,labels=labels,autopct='%.1f%%')\n",
    "plt.show()\n",
    "\n",
    "if Male.mean()>Female.mean():\n",
    "    print('남자 인구수가 더 많습니다.')\n",
    "elif Male.mean()<Female.mean():\n",
    "    print('여자 인구수가 더 많습니다.')"
   ]
  },
  {
   "cell_type": "code",
   "execution_count": 34,
   "id": "71a42b45",
   "metadata": {},
   "outputs": [],
   "source": [
    "Male=df[df['행정구역']=='충청남도 천안시 서북구 부성1동']['남자 인구수']\n",
    "Female=df[df['행정구역']=='충청남도 천안시 서북구 부성1동']['여자 인구수']"
   ]
  },
  {
   "cell_type": "code",
   "execution_count": 35,
   "id": "56d7a27f",
   "metadata": {},
   "outputs": [
    {
     "data": {
      "image/png": "[encoded data removed]",
      "text/plain": [
       "<Figure size 432x288 with 1 Axes>"
      ]
     },
     "metadata": {},
     "output_type": "display_data"
    },
    {
     "name": "stdout",
     "output_type": "stream",
     "text": [
      "남자 인구수가 더 많습니다.\n"
     ]
    }
   ],
   "source": [
    "import matplotlib.pyplot as plt\n",
    "\n",
    "plt.rcParams['font.family']='NanumGothic'\n",
    "ratio=[Male.mean(),Female.mean()]\n",
    "\n",
    "\n",
    "labels=['남자 인구수','여자 인구수']\n",
    "plt.title('충청남도 천안시 서북구 부성1동')\n",
    "\n",
    "plt.pie(ratio,labels=labels,autopct='%.1f%%')\n",
    "plt.show()\n",
    "\n",
    "if Male.mean()>Female.mean():\n",
    "    print('남자 인구수가 더 많습니다.')\n",
    "elif Male.mean()<Female.mean():\n",
    "    print('여자 인구수가 더 많습니다.')"
   ]
  },
  {
   "cell_type": "code",
   "execution_count": 36,
   "id": "b2ba99b0",
   "metadata": {},
   "outputs": [],
   "source": [
    "Male=df[df['행정구역']=='충청남도 천안시 서북구 부성2동']['남자 인구수']\n",
    "Female=df[df['행정구역']=='충청남도 천안시 서북구 부성2동']['여자 인구수']"
   ]
  },
  {
   "cell_type": "code",
   "execution_count": 37,
   "id": "7a46e300",
   "metadata": {},
   "outputs": [
    {
     "data": {
      "image/png": "[encoded data removed]",
      "text/plain": [
       "<Figure size 432x288 with 1 Axes>"
      ]
     },
     "metadata": {},
     "output_type": "display_data"
    },
    {
     "name": "stdout",
     "output_type": "stream",
     "text": [
      "남자 인구수가 더 많습니다.\n"
     ]
    }
   ],
   "source": [
    "import matplotlib.pyplot as plt\n",
    "\n",
    "plt.rcParams['font.family']='NanumGothic'\n",
    "ratio=[Male.mean(),Female.mean()]\n",
    "\n",
    "\n",
    "labels=['남자 인구수','여자 인구수']\n",
    "plt.title('충청남도 천안시 서북구 부성2동')\n",
    "\n",
    "plt.pie(ratio,labels=labels,autopct='%.1f%%')\n",
    "plt.show()\n",
    "\n",
    "if Male.mean()>Female.mean():\n",
    "    print('남자 인구수가 더 많습니다.')\n",
    "elif Male.mean()<Female.mean():\n",
    "    print('여자 인구수가 더 많습니다.')"
   ]
  },
  {
   "cell_type": "code",
   "execution_count": null,
   "id": "b9c221a1",
   "metadata": {},
   "outputs": [],
   "source": []
  }
 ],
 "metadata": {
  "kernelspec": {
   "display_name": "Python 3",
   "language": "python",
   "name": "python3"
  },
  "language_info": {
   "codemirror_mode": {
    "name": "ipython",
    "version": 3
   },
   "file_extension": ".py",
   "mimetype": "text/x-python",
   "name": "python",
   "nbconvert_exporter": "python",
   "pygments_lexer": "ipython3",
   "version": "3.8.8"
  }
 },
 "nbformat": 4,
 "nbformat_minor": 5
}
