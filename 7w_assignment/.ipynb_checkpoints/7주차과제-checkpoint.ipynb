{
 "cells": [
  {
   "cell_type": "code",
   "execution_count": 2,
   "id": "1338f202",
   "metadata": {},
   "outputs": [
    {
     "data": {
      "text/html": [
       "<div>\n",
       "<style scoped>\n",
       "    .dataframe tbody tr th:only-of-type {\n",
       "        vertical-align: middle;\n",
       "    }\n",
       "\n",
       "    .dataframe tbody tr th {\n",
       "        vertical-align: top;\n",
       "    }\n",
       "\n",
       "    .dataframe thead th {\n",
       "        text-align: right;\n",
       "    }\n",
       "</style>\n",
       "<table border=\"1\" class=\"dataframe\">\n",
       "  <thead>\n",
       "    <tr style=\"text-align: right;\">\n",
       "      <th></th>\n",
       "      <th>광역시도</th>\n",
       "      <th>기준년월</th>\n",
       "      <th>카드이용금액계</th>\n",
       "      <th>카드이용건수계</th>\n",
       "    </tr>\n",
       "  </thead>\n",
       "  <tbody>\n",
       "    <tr>\n",
       "      <th>0</th>\n",
       "      <td>강원</td>\n",
       "      <td>201701</td>\n",
       "      <td>2.114608e+11</td>\n",
       "      <td>7661196.78</td>\n",
       "    </tr>\n",
       "    <tr>\n",
       "      <th>1</th>\n",
       "      <td>강원</td>\n",
       "      <td>201707</td>\n",
       "      <td>2.670671e+11</td>\n",
       "      <td>9821078.60</td>\n",
       "    </tr>\n",
       "    <tr>\n",
       "      <th>2</th>\n",
       "      <td>강원</td>\n",
       "      <td>201807</td>\n",
       "      <td>2.823405e+11</td>\n",
       "      <td>10388758.38</td>\n",
       "    </tr>\n",
       "    <tr>\n",
       "      <th>3</th>\n",
       "      <td>강원</td>\n",
       "      <td>201706</td>\n",
       "      <td>2.358198e+11</td>\n",
       "      <td>9121877.60</td>\n",
       "    </tr>\n",
       "    <tr>\n",
       "      <th>4</th>\n",
       "      <td>경기</td>\n",
       "      <td>201708</td>\n",
       "      <td>1.970644e+12</td>\n",
       "      <td>90936069.70</td>\n",
       "    </tr>\n",
       "    <tr>\n",
       "      <th>...</th>\n",
       "      <td>...</td>\n",
       "      <td>...</td>\n",
       "      <td>...</td>\n",
       "      <td>...</td>\n",
       "    </tr>\n",
       "    <tr>\n",
       "      <th>379</th>\n",
       "      <td>전남</td>\n",
       "      <td>201809</td>\n",
       "      <td>1.798487e+11</td>\n",
       "      <td>6290677.56</td>\n",
       "    </tr>\n",
       "    <tr>\n",
       "      <th>380</th>\n",
       "      <td>제주</td>\n",
       "      <td>201811</td>\n",
       "      <td>1.348424e+11</td>\n",
       "      <td>4199065.28</td>\n",
       "    </tr>\n",
       "    <tr>\n",
       "      <th>381</th>\n",
       "      <td>제주</td>\n",
       "      <td>201810</td>\n",
       "      <td>1.436371e+11</td>\n",
       "      <td>4559782.77</td>\n",
       "    </tr>\n",
       "    <tr>\n",
       "      <th>382</th>\n",
       "      <td>충남</td>\n",
       "      <td>201812</td>\n",
       "      <td>2.809430e+11</td>\n",
       "      <td>10911107.20</td>\n",
       "    </tr>\n",
       "    <tr>\n",
       "      <th>383</th>\n",
       "      <td>충북</td>\n",
       "      <td>201811</td>\n",
       "      <td>2.302738e+11</td>\n",
       "      <td>9741616.25</td>\n",
       "    </tr>\n",
       "  </tbody>\n",
       "</table>\n",
       "<p>384 rows × 4 columns</p>\n",
       "</div>"
      ],
      "text/plain": [
       "    광역시도    기준년월       카드이용금액계      카드이용건수계\n",
       "0     강원  201701  2.114608e+11   7661196.78\n",
       "1     강원  201707  2.670671e+11   9821078.60\n",
       "2     강원  201807  2.823405e+11  10388758.38\n",
       "3     강원  201706  2.358198e+11   9121877.60\n",
       "4     경기  201708  1.970644e+12  90936069.70\n",
       "..   ...     ...           ...          ...\n",
       "379   전남  201809  1.798487e+11   6290677.56\n",
       "380   제주  201811  1.348424e+11   4199065.28\n",
       "381   제주  201810  1.436371e+11   4559782.77\n",
       "382   충남  201812  2.809430e+11  10911107.20\n",
       "383   충북  201811  2.302738e+11   9741616.25\n",
       "\n",
       "[384 rows x 4 columns]"
      ]
     },
     "execution_count": 2,
     "metadata": {},
     "output_type": "execute_result"
    }
   ],
   "source": [
    "import pandas as pd\n",
    "\n",
    "df = pd.read_csv('카드데이터) 광역시도별_음식점_1718_통계.csv')\n",
    "df"
   ]
  },
  {
   "cell_type": "code",
   "execution_count": 3,
   "id": "79836f7d",
   "metadata": {},
   "outputs": [
    {
     "data": {
      "text/plain": [
       "456132959650.98975"
      ]
     },
     "execution_count": 3,
     "metadata": {},
     "output_type": "execute_result"
    }
   ],
   "source": [
    "df['카드이용금액계'].mean()"
   ]
  },
  {
   "cell_type": "code",
   "execution_count": 4,
   "id": "6ceda607",
   "metadata": {},
   "outputs": [
    {
     "data": {
      "text/plain": [
       "array(['강원', '경기', '경남', '경북', '광주', '대구', '대전', '부산', '서울', '울산', '인천',\n",
       "       '전남', '전북', '제주', '충남', '충북'], dtype=object)"
      ]
     },
     "execution_count": 4,
     "metadata": {},
     "output_type": "execute_result"
    }
   ],
   "source": [
    "df['광역시도'].unique()"
   ]
  },
  {
   "cell_type": "code",
   "execution_count": 5,
   "id": "3bb38a3b",
   "metadata": {},
   "outputs": [
    {
     "data": {
      "text/plain": [
       "250050954904.24875"
      ]
     },
     "execution_count": 5,
     "metadata": {},
     "output_type": "execute_result"
    }
   ],
   "source": [
    "df[df['광역시도'] == '강원']['카드이용금액계'].mean()"
   ]
  },
  {
   "cell_type": "code",
   "execution_count": 6,
   "id": "666466fb",
   "metadata": {},
   "outputs": [
    {
     "data": {
      "text/plain": [
       "1900093779406.5598"
      ]
     },
     "execution_count": 6,
     "metadata": {},
     "output_type": "execute_result"
    }
   ],
   "source": [
    "df[df['광역시도'] == '경기']['카드이용금액계'].mean()"
   ]
  },
  {
   "cell_type": "code",
   "execution_count": 7,
   "id": "66b2df0c",
   "metadata": {},
   "outputs": [
    {
     "data": {
      "text/plain": [
       "331390337576.03546"
      ]
     },
     "execution_count": 7,
     "metadata": {},
     "output_type": "execute_result"
    }
   ],
   "source": [
    "df[df['광역시도'] == '경남']['카드이용금액계'].mean()"
   ]
  },
  {
   "cell_type": "code",
   "execution_count": 8,
   "id": "98b3c44e",
   "metadata": {},
   "outputs": [
    {
     "data": {
      "text/plain": [
       "243166507442.02078"
      ]
     },
     "execution_count": 8,
     "metadata": {},
     "output_type": "execute_result"
    }
   ],
   "source": [
    "df[df['광역시도'] == '경북']['카드이용금액계'].mean()"
   ]
  },
  {
   "cell_type": "code",
   "execution_count": 9,
   "id": "2d8227bc",
   "metadata": {},
   "outputs": [
    {
     "data": {
      "text/plain": [
       "167338605696.73373"
      ]
     },
     "execution_count": 9,
     "metadata": {},
     "output_type": "execute_result"
    }
   ],
   "source": [
    "df[df['광역시도'] == '광주']['카드이용금액계'].mean()"
   ]
  },
  {
   "cell_type": "code",
   "execution_count": 10,
   "id": "8e04db96",
   "metadata": {},
   "outputs": [
    {
     "data": {
      "text/plain": [
       "237892781077.45004"
      ]
     },
     "execution_count": 10,
     "metadata": {},
     "output_type": "execute_result"
    }
   ],
   "source": [
    "df[df['광역시도'] == '대구']['카드이용금액계'].mean()"
   ]
  },
  {
   "cell_type": "code",
   "execution_count": 11,
   "id": "f9ad5ab0",
   "metadata": {},
   "outputs": [
    {
     "data": {
      "text/plain": [
       "221857749634.62122"
      ]
     },
     "execution_count": 11,
     "metadata": {},
     "output_type": "execute_result"
    }
   ],
   "source": [
    "df[df['광역시도'] == '대전']['카드이용금액계'].mean()"
   ]
  },
  {
   "cell_type": "code",
   "execution_count": 12,
   "id": "2f43d249",
   "metadata": {},
   "outputs": [
    {
     "data": {
      "text/plain": [
       "412706624231.7192"
      ]
     },
     "execution_count": 12,
     "metadata": {},
     "output_type": "execute_result"
    }
   ],
   "source": [
    "df[df['광역시도'] == '부산']['카드이용금액계'].mean()"
   ]
  },
  {
   "cell_type": "code",
   "execution_count": 13,
   "id": "d5a76f68",
   "metadata": {},
   "outputs": [
    {
     "data": {
      "text/plain": [
       "2007775207452.3464"
      ]
     },
     "execution_count": 13,
     "metadata": {},
     "output_type": "execute_result"
    }
   ],
   "source": [
    "df[df['광역시도'] == '서울']['카드이용금액계'].mean()"
   ]
  },
  {
   "cell_type": "code",
   "execution_count": 14,
   "id": "37204de6",
   "metadata": {},
   "outputs": [
    {
     "data": {
      "text/plain": [
       "143291088424.70874"
      ]
     },
     "execution_count": 14,
     "metadata": {},
     "output_type": "execute_result"
    }
   ],
   "source": [
    "df[df['광역시도'] == '울산']['카드이용금액계'].mean()"
   ]
  },
  {
   "cell_type": "code",
   "execution_count": 15,
   "id": "e1fd5c86",
   "metadata": {},
   "outputs": [
    {
     "data": {
      "text/plain": [
       "407365661809.5766"
      ]
     },
     "execution_count": 15,
     "metadata": {},
     "output_type": "execute_result"
    }
   ],
   "source": [
    "df[df['광역시도'] == '인천']['카드이용금액계'].mean()"
   ]
  },
  {
   "cell_type": "code",
   "execution_count": 16,
   "id": "5d624719",
   "metadata": {},
   "outputs": [
    {
     "data": {
      "text/plain": [
       "171047875285.35126"
      ]
     },
     "execution_count": 16,
     "metadata": {},
     "output_type": "execute_result"
    }
   ],
   "source": [
    "df[df['광역시도'] == '전남']['카드이용금액계'].mean()"
   ]
  },
  {
   "cell_type": "code",
   "execution_count": 17,
   "id": "18e799c6",
   "metadata": {},
   "outputs": [
    {
     "data": {
      "text/plain": [
       "177143288635.82416"
      ]
     },
     "execution_count": 17,
     "metadata": {},
     "output_type": "execute_result"
    }
   ],
   "source": [
    "df[df['광역시도'] == '전북']['카드이용금액계'].mean()"
   ]
  },
  {
   "cell_type": "code",
   "execution_count": 18,
   "id": "17712ab9",
   "metadata": {},
   "outputs": [
    {
     "data": {
      "text/plain": [
       "141419320179.95416"
      ]
     },
     "execution_count": 18,
     "metadata": {},
     "output_type": "execute_result"
    }
   ],
   "source": [
    "df[df['광역시도'] == '제주']['카드이용금액계'].mean()"
   ]
  },
  {
   "cell_type": "code",
   "execution_count": 19,
   "id": "4d29e0ec",
   "metadata": {},
   "outputs": [
    {
     "data": {
      "text/plain": [
       "257081148201.28088"
      ]
     },
     "execution_count": 19,
     "metadata": {},
     "output_type": "execute_result"
    }
   ],
   "source": [
    "df[df['광역시도'] == '충남']['카드이용금액계'].mean()"
   ]
  },
  {
   "cell_type": "code",
   "execution_count": 20,
   "id": "c509d85c",
   "metadata": {},
   "outputs": [
    {
     "data": {
      "text/plain": [
       "228506424457.4004"
      ]
     },
     "execution_count": 20,
     "metadata": {},
     "output_type": "execute_result"
    }
   ],
   "source": [
    "df[df['광역시도'] == '충북']['카드이용금액계'].mean()"
   ]
  },
  {
   "cell_type": "code",
   "execution_count": 21,
   "id": "e37c1477",
   "metadata": {},
   "outputs": [
    {
     "data": {
      "text/html": [
       "<div>\n",
       "<style scoped>\n",
       "    .dataframe tbody tr th:only-of-type {\n",
       "        vertical-align: middle;\n",
       "    }\n",
       "\n",
       "    .dataframe tbody tr th {\n",
       "        vertical-align: top;\n",
       "    }\n",
       "\n",
       "    .dataframe thead th {\n",
       "        text-align: right;\n",
       "    }\n",
       "</style>\n",
       "<table border=\"1\" class=\"dataframe\">\n",
       "  <thead>\n",
       "    <tr style=\"text-align: right;\">\n",
       "      <th></th>\n",
       "      <th>광역시도</th>\n",
       "      <th>카드이용금액계</th>\n",
       "      <th>순위</th>\n",
       "    </tr>\n",
       "  </thead>\n",
       "  <tbody>\n",
       "    <tr>\n",
       "      <th>0</th>\n",
       "      <td>강원</td>\n",
       "      <td>2.500510e+11</td>\n",
       "      <td>10.0</td>\n",
       "    </tr>\n",
       "    <tr>\n",
       "      <th>1</th>\n",
       "      <td>경기</td>\n",
       "      <td>1.900094e+12</td>\n",
       "      <td>15.0</td>\n",
       "    </tr>\n",
       "    <tr>\n",
       "      <th>2</th>\n",
       "      <td>경남</td>\n",
       "      <td>3.313903e+11</td>\n",
       "      <td>12.0</td>\n",
       "    </tr>\n",
       "    <tr>\n",
       "      <th>3</th>\n",
       "      <td>경북</td>\n",
       "      <td>2.431665e+11</td>\n",
       "      <td>9.0</td>\n",
       "    </tr>\n",
       "    <tr>\n",
       "      <th>4</th>\n",
       "      <td>광주</td>\n",
       "      <td>1.673386e+11</td>\n",
       "      <td>3.0</td>\n",
       "    </tr>\n",
       "    <tr>\n",
       "      <th>5</th>\n",
       "      <td>대구</td>\n",
       "      <td>2.378928e+11</td>\n",
       "      <td>8.0</td>\n",
       "    </tr>\n",
       "    <tr>\n",
       "      <th>6</th>\n",
       "      <td>대전</td>\n",
       "      <td>2.218577e+11</td>\n",
       "      <td>6.0</td>\n",
       "    </tr>\n",
       "    <tr>\n",
       "      <th>7</th>\n",
       "      <td>부산</td>\n",
       "      <td>4.127066e+11</td>\n",
       "      <td>14.0</td>\n",
       "    </tr>\n",
       "    <tr>\n",
       "      <th>8</th>\n",
       "      <td>서울</td>\n",
       "      <td>2.007775e+12</td>\n",
       "      <td>16.0</td>\n",
       "    </tr>\n",
       "    <tr>\n",
       "      <th>9</th>\n",
       "      <td>울산</td>\n",
       "      <td>1.432911e+11</td>\n",
       "      <td>2.0</td>\n",
       "    </tr>\n",
       "    <tr>\n",
       "      <th>10</th>\n",
       "      <td>인천</td>\n",
       "      <td>4.073657e+11</td>\n",
       "      <td>13.0</td>\n",
       "    </tr>\n",
       "    <tr>\n",
       "      <th>11</th>\n",
       "      <td>전남</td>\n",
       "      <td>1.710479e+11</td>\n",
       "      <td>4.0</td>\n",
       "    </tr>\n",
       "    <tr>\n",
       "      <th>12</th>\n",
       "      <td>전북</td>\n",
       "      <td>1.771433e+11</td>\n",
       "      <td>5.0</td>\n",
       "    </tr>\n",
       "    <tr>\n",
       "      <th>13</th>\n",
       "      <td>제주</td>\n",
       "      <td>1.414193e+11</td>\n",
       "      <td>1.0</td>\n",
       "    </tr>\n",
       "    <tr>\n",
       "      <th>14</th>\n",
       "      <td>충남</td>\n",
       "      <td>2.570811e+11</td>\n",
       "      <td>11.0</td>\n",
       "    </tr>\n",
       "    <tr>\n",
       "      <th>15</th>\n",
       "      <td>충북</td>\n",
       "      <td>2.285064e+11</td>\n",
       "      <td>7.0</td>\n",
       "    </tr>\n",
       "  </tbody>\n",
       "</table>\n",
       "</div>"
      ],
      "text/plain": [
       "   광역시도       카드이용금액계    순위\n",
       "0    강원  2.500510e+11  10.0\n",
       "1    경기  1.900094e+12  15.0\n",
       "2    경남  3.313903e+11  12.0\n",
       "3    경북  2.431665e+11   9.0\n",
       "4    광주  1.673386e+11   3.0\n",
       "5    대구  2.378928e+11   8.0\n",
       "6    대전  2.218577e+11   6.0\n",
       "7    부산  4.127066e+11  14.0\n",
       "8    서울  2.007775e+12  16.0\n",
       "9    울산  1.432911e+11   2.0\n",
       "10   인천  4.073657e+11  13.0\n",
       "11   전남  1.710479e+11   4.0\n",
       "12   전북  1.771433e+11   5.0\n",
       "13   제주  1.414193e+11   1.0\n",
       "14   충남  2.570811e+11  11.0\n",
       "15   충북  2.285064e+11   7.0"
      ]
     },
     "execution_count": 21,
     "metadata": {},
     "output_type": "execute_result"
    }
   ],
   "source": [
    "df = pd.DataFrame(\n",
    "    {'광역시도':['강원', '경기', '경남', '경북', '광주', '대구', '대전', '부산', '서울', '울산', '인천',\n",
    "       '전남', '전북', '제주', '충남', '충북'],\n",
    "    '카드이용금액계': [250050954904.24875, 1900093779406.5598, 331390337576.03546, 243166507442.02078, 167338605696.73373,\n",
    "                237892781077.45004, 221857749634.62122, 412706624231.7192, 2007775207452.3464, 143291088424.70874, \n",
    "                407365661809.5766, 171047875285.35126, 177143288635.82416, 141419320179.95416, 257081148201.28088, \n",
    "                228506424457.4004]})\n",
    "df['순위']=df['카드이용금액계'].rank()\n",
    "df"
   ]
  },
  {
   "cell_type": "code",
   "execution_count": 22,
   "id": "d5079158",
   "metadata": {},
   "outputs": [],
   "source": [
    "Gangwon = df[df['광역시도'] == '강원']['카드이용금액계']\n",
    "Gyeonggi = df[df['광역시도'] == '경기']['카드이용금액계']\n",
    "Gyeongnam = df[df['광역시도'] == '경남']['카드이용금액계']\n",
    "Gyeongbuk = df[df['광역시도'] == '경북']['카드이용금액계']\n",
    "Gwangju = df[df['광역시도'] == '광주']['카드이용금액계']\n",
    "Daegu = df[df['광역시도'] == '대구']['카드이용금액계']\n",
    "Daejeon = df[df['광역시도'] == '대전']['카드이용금액계']\n",
    "Busan = df[df['광역시도'] == '부산']['카드이용금액계']\n",
    "Seoul = df[df['광역시도'] == '서울']['카드이용금액계']\n",
    "Ulsan = df[df['광역시도'] == '울산']['카드이용금액계']\n",
    "Incheon = df[df['광역시도'] == '인천']['카드이용금액계']\n",
    "Jeonnam = df[df['광역시도'] == '전남']['카드이용금액계']\n",
    "Jeonbuk = df[df['광역시도'] == '전북']['카드이용금액계']\n",
    "Jeju = df[df['광역시도'] == '제주']['카드이용금액계']\n",
    "Chungnam = df[df['광역시도'] == '충남']['카드이용금액계']\n",
    "Chungbuk = df[df['광역시도'] == '충북']['카드이용금액계']"
   ]
  },
  {
   "cell_type": "code",
   "execution_count": 23,
   "id": "9c335c31",
   "metadata": {},
   "outputs": [
    {
     "data": {
      "image/png": "[encoded data removed]",
      "text/plain": [
       "<Figure size 432x288 with 1 Axes>"
      ]
     },
     "metadata": {},
     "output_type": "display_data"
    }
   ],
   "source": [
    "import matplotlib.pyplot as plt\n",
    "\n",
    "plt.rcParams['font.family'] = 'NanumGothic'\n",
    "ratio = [Gangwon.mean(), Gyeonggi.mean(), Gyeongnam.mean(), Gyeongbuk.mean(), Gwangju.mean(), Daegu.mean(), Daejeon.mean(), Busan.mean(),\n",
    "         Seoul.mean(), Ulsan.mean(),  Incheon.mean(),  Jeonnam.mean(),  Jeonbuk.mean(),  Jeju.mean(), Chungnam.mean(),  Chungbuk.mean()]\n",
    "\n",
    "labels = ['강원', '경기', '경남', '경북', '광주', '대구', '대전', '부산', '서울', '울산', '인천',\n",
    "       '전남', '전북', '제주', '충남', '충북']\n",
    "\n",
    "plt.pie(ratio, labels=labels, autopct='%.1f%%')\n",
    "plt.show()"
   ]
  },
  {
   "cell_type": "code",
   "execution_count": 24,
   "id": "ac61b09f",
   "metadata": {},
   "outputs": [
    {
     "data": {
      "text/html": [
       "<div>\n",
       "<style scoped>\n",
       "    .dataframe tbody tr th:only-of-type {\n",
       "        vertical-align: middle;\n",
       "    }\n",
       "\n",
       "    .dataframe tbody tr th {\n",
       "        vertical-align: top;\n",
       "    }\n",
       "\n",
       "    .dataframe thead th {\n",
       "        text-align: right;\n",
       "    }\n",
       "</style>\n",
       "<table border=\"1\" class=\"dataframe\">\n",
       "  <thead>\n",
       "    <tr style=\"text-align: right;\">\n",
       "      <th></th>\n",
       "      <th>지역</th>\n",
       "      <th>중분류</th>\n",
       "      <th>기준년월</th>\n",
       "      <th>성별</th>\n",
       "      <th>연령대별</th>\n",
       "      <th>카드이용금액계</th>\n",
       "      <th>카드이용건수계</th>\n",
       "    </tr>\n",
       "  </thead>\n",
       "  <tbody>\n",
       "    <tr>\n",
       "      <th>0</th>\n",
       "      <td>청양군</td>\n",
       "      <td>일식/중식/양식</td>\n",
       "      <td>201702</td>\n",
       "      <td>F</td>\n",
       "      <td>60대후</td>\n",
       "      <td>114240.0</td>\n",
       "      <td>9.52</td>\n",
       "    </tr>\n",
       "    <tr>\n",
       "      <th>1</th>\n",
       "      <td>청양군</td>\n",
       "      <td>일식/중식/양식</td>\n",
       "      <td>201710</td>\n",
       "      <td>F</td>\n",
       "      <td>70대이상</td>\n",
       "      <td>290640.0</td>\n",
       "      <td>10.38</td>\n",
       "    </tr>\n",
       "    <tr>\n",
       "      <th>2</th>\n",
       "      <td>금산군</td>\n",
       "      <td>일식/중식/양식</td>\n",
       "      <td>201701</td>\n",
       "      <td>F</td>\n",
       "      <td>70대이상</td>\n",
       "      <td>575960.0</td>\n",
       "      <td>19.36</td>\n",
       "    </tr>\n",
       "    <tr>\n",
       "      <th>3</th>\n",
       "      <td>청양군</td>\n",
       "      <td>일식/중식/양식</td>\n",
       "      <td>201705</td>\n",
       "      <td>F</td>\n",
       "      <td>60대후</td>\n",
       "      <td>886050.0</td>\n",
       "      <td>19.80</td>\n",
       "    </tr>\n",
       "    <tr>\n",
       "      <th>4</th>\n",
       "      <td>청양군</td>\n",
       "      <td>제과/커피/패스트푸드</td>\n",
       "      <td>201705</td>\n",
       "      <td>M</td>\n",
       "      <td>70대이상</td>\n",
       "      <td>229185.0</td>\n",
       "      <td>19.80</td>\n",
       "    </tr>\n",
       "    <tr>\n",
       "      <th>...</th>\n",
       "      <td>...</td>\n",
       "      <td>...</td>\n",
       "      <td>...</td>\n",
       "      <td>...</td>\n",
       "      <td>...</td>\n",
       "      <td>...</td>\n",
       "      <td>...</td>\n",
       "    </tr>\n",
       "    <tr>\n",
       "      <th>11869</th>\n",
       "      <td>공주시</td>\n",
       "      <td>제과/커피/패스트푸드</td>\n",
       "      <td>201704</td>\n",
       "      <td>M</td>\n",
       "      <td>60대후</td>\n",
       "      <td>4696022.2</td>\n",
       "      <td>358.43</td>\n",
       "    </tr>\n",
       "    <tr>\n",
       "      <th>11870</th>\n",
       "      <td>예산군</td>\n",
       "      <td>제과/커피/패스트푸드</td>\n",
       "      <td>201702</td>\n",
       "      <td>M</td>\n",
       "      <td>60대초</td>\n",
       "      <td>5513698.4</td>\n",
       "      <td>428.40</td>\n",
       "    </tr>\n",
       "    <tr>\n",
       "      <th>11871</th>\n",
       "      <td>청양군</td>\n",
       "      <td>한식</td>\n",
       "      <td>201705</td>\n",
       "      <td>F</td>\n",
       "      <td>50대후</td>\n",
       "      <td>24309945.0</td>\n",
       "      <td>539.55</td>\n",
       "    </tr>\n",
       "    <tr>\n",
       "      <th>11872</th>\n",
       "      <td>부여군</td>\n",
       "      <td>일식/중식/양식</td>\n",
       "      <td>201705</td>\n",
       "      <td>M</td>\n",
       "      <td>30대후</td>\n",
       "      <td>18414000.0</td>\n",
       "      <td>564.30</td>\n",
       "    </tr>\n",
       "    <tr>\n",
       "      <th>11873</th>\n",
       "      <td>당진시</td>\n",
       "      <td>제과/커피/패스트푸드</td>\n",
       "      <td>201710</td>\n",
       "      <td>M</td>\n",
       "      <td>60대후</td>\n",
       "      <td>8329431.0</td>\n",
       "      <td>788.88</td>\n",
       "    </tr>\n",
       "  </tbody>\n",
       "</table>\n",
       "<p>11874 rows × 7 columns</p>\n",
       "</div>"
      ],
      "text/plain": [
       "        지역          중분류    기준년월 성별   연령대별     카드이용금액계  카드이용건수계\n",
       "0      청양군     일식/중식/양식  201702  F   60대후    114240.0     9.52\n",
       "1      청양군     일식/중식/양식  201710  F  70대이상    290640.0    10.38\n",
       "2      금산군     일식/중식/양식  201701  F  70대이상    575960.0    19.36\n",
       "3      청양군     일식/중식/양식  201705  F   60대후    886050.0    19.80\n",
       "4      청양군  제과/커피/패스트푸드  201705  M  70대이상    229185.0    19.80\n",
       "...    ...          ...     ... ..    ...         ...      ...\n",
       "11869  공주시  제과/커피/패스트푸드  201704  M   60대후   4696022.2   358.43\n",
       "11870  예산군  제과/커피/패스트푸드  201702  M   60대초   5513698.4   428.40\n",
       "11871  청양군           한식  201705  F   50대후  24309945.0   539.55\n",
       "11872  부여군     일식/중식/양식  201705  M   30대후  18414000.0   564.30\n",
       "11873  당진시  제과/커피/패스트푸드  201710  M   60대후   8329431.0   788.88\n",
       "\n",
       "[11874 rows x 7 columns]"
      ]
     },
     "execution_count": 24,
     "metadata": {},
     "output_type": "execute_result"
    }
   ],
   "source": [
    "import pandas as pd\n",
    "\n",
    "df = pd.read_csv('카드데이터) 충남지역별_음식점_17_통계.csv')\n",
    "df"
   ]
  },
  {
   "cell_type": "code",
   "execution_count": 25,
   "id": "668c1955",
   "metadata": {},
   "outputs": [
    {
     "data": {
      "text/plain": [
       "153965537.4841537"
      ]
     },
     "execution_count": 25,
     "metadata": {},
     "output_type": "execute_result"
    }
   ],
   "source": [
    "df['카드이용금액계'].mean()"
   ]
  },
  {
   "cell_type": "code",
   "execution_count": 26,
   "id": "c50b0c33",
   "metadata": {},
   "outputs": [
    {
     "data": {
      "text/plain": [
       "array(['청양군', '금산군', '계룡시', '부여군', '태안군', '서천군', '논산시', '공주시', '홍성군',\n",
       "       '서산시', '예산군', '보령시', '아산시', '당진시', '천안시'], dtype=object)"
      ]
     },
     "execution_count": 26,
     "metadata": {},
     "output_type": "execute_result"
    }
   ],
   "source": [
    "df['지역'].unique()"
   ]
  },
  {
   "cell_type": "code",
   "execution_count": 27,
   "id": "406a3743",
   "metadata": {},
   "outputs": [],
   "source": [
    "Cheongyang = df[df['지역'] == '청양군']['카드이용금액계']\n",
    "Geumsan = df[df['지역'] == '금산군']['카드이용금액계']\n",
    "Gyeryong = df[df['지역'] == '계룡시']['카드이용금액계']\n",
    "Buyeo = df[df['지역'] == '부여군']['카드이용금액계']\n",
    "Taean = df[df['지역'] == '태안군']['카드이용금액계']\n",
    "Seocheon = df[df['지역'] == '서천군']['카드이용금액계']\n",
    "Nonsan = df[df['지역'] == '논산시']['카드이용금액계']\n",
    "Gongju = df[df['지역'] == '공주시']['카드이용금액계']\n",
    "Hongseong = df[df['지역'] == '홍성군']['카드이용금액계']\n",
    "Seosan = df[df['지역'] == '서산시']['카드이용금액계']\n",
    "Yesan = df[df['지역'] == '예산군']['카드이용금액계']\n",
    "Boryeong = df[df['지역'] == '보령시']['카드이용금액계']\n",
    "Asan = df[df['지역'] == '아산시']['카드이용금액계']\n",
    "Dangjin = df[df['지역'] == '당진시']['카드이용금액계']\n",
    "Cheonan = df[df['지역'] == '천안시']['카드이용금액계']"
   ]
  },
  {
   "cell_type": "code",
   "execution_count": 28,
   "id": "c263471e",
   "metadata": {},
   "outputs": [
    {
     "data": {
      "image/png": "[encoded data removed]",
      "text/plain": [
       "<Figure size 432x288 with 1 Axes>"
      ]
     },
     "metadata": {},
     "output_type": "display_data"
    }
   ],
   "source": [
    "import matplotlib.pyplot as plt\n",
    "plt.rcParams['font.family'] = 'NanumGothic'\n",
    "ratio = [Cheongyang.mean(), Geumsan.mean(), Gyeryong.mean(), Buyeo.mean(), Taean.mean(), Seocheon.mean(), Nonsan.mean(),\n",
    "        Gongju.mean(), Hongseong.mean(), Seosan.mean(), Yesan.mean(), Boryeong.mean(), Asan.mean(), Dangjin.mean(), Cheonan.mean()]\n",
    "\n",
    "labels = ['청양군', '금산군', '계룡시', '부여군', '태안군', '서천군', '논산시', '공주시', '홍성군',\n",
    "       '서산시', '예산군', '보령시', '아산시', '당진시', '천안시']\n",
    "\n",
    "plt.pie(ratio, labels=labels, autopct='%.1f%%')\n",
    "plt.show()"
   ]
  },
  {
   "cell_type": "code",
   "execution_count": 29,
   "id": "4176a74e",
   "metadata": {},
   "outputs": [
    {
     "data": {
      "text/plain": [
       "array(['60대후', '70대이상', '20대초', '60대초', '20대후', '30대후', '40대초', '50대후',\n",
       "       '50대초', '30대초', '40대후'], dtype=object)"
      ]
     },
     "execution_count": 29,
     "metadata": {},
     "output_type": "execute_result"
    }
   ],
   "source": [
    "df['연령대별'].unique()"
   ]
  },
  {
   "cell_type": "code",
   "execution_count": 30,
   "id": "bfce23fc",
   "metadata": {},
   "outputs": [],
   "source": [
    "ealry20 = df[df['연령대별'] == ('20대초')]['카드이용금액계']\n",
    "late20 = df[df['연령대별'] == ('20대후')]['카드이용금액계']\n",
    "early30 = df[df['연령대별'] == ('30대초')]['카드이용금액계']\n",
    "late30 = df[df['연령대별'] == ('30대후')]['카드이용금액계']\n",
    "early40 = df[df['연령대별'] == ('40대초')]['카드이용금액계']\n",
    "late40 = df[df['연령대별'] == ('40대후')]['카드이용금액계']\n",
    "early50 = df[df['연령대별'] == ('50대초')]['카드이용금액계']\n",
    "late50 = df[df['연령대별'] == '50대후']['카드이용금액계']\n",
    "early60 = df[df['연령대별'] == ('60대초')]['카드이용금액계']\n",
    "late60 = df[df['연령대별'] == '60대후']['카드이용금액계']\n",
    "over70 = df[df['연령대별'] == '70대이상']['카드이용금액계']"
   ]
  },
  {
   "cell_type": "code",
   "execution_count": 31,
   "id": "b59e7294",
   "metadata": {},
   "outputs": [
    {
     "data": {
      "image/png": "[encoded data removed]",
      "text/plain": [
       "<Figure size 432x288 with 1 Axes>"
      ]
     },
     "metadata": {},
     "output_type": "display_data"
    }
   ],
   "source": [
    "import matplotlib.pyplot as plt\n",
    "plt.rcParams['font.family'] = 'NanumGothic'\n",
    "ratio = [ealry20.mean(), late20.mean(), early30.mean(), late30.mean(), early40.mean(), late40.mean(), early50.mean(), late50.mean(),\n",
    "        early60.mean(), late60.mean(), over70.mean()]\n",
    "\n",
    "labels = ['20대초반', '20대후반', '30대초반', '30대후반','40대초반', '40대후반','50대초반', '50대후반',\n",
    "          '60대초반', '60대후반', '70대이상']\n",
    "\n",
    "plt.pie(ratio, labels=labels, autopct='%.1f%%')\n",
    "plt.show()"
   ]
  },
  {
   "cell_type": "code",
   "execution_count": 32,
   "id": "2a69444b",
   "metadata": {},
   "outputs": [
    {
     "data": {
      "text/plain": [
       "array(['일식/중식/양식', '제과/커피/패스트푸드', '한식'], dtype=object)"
      ]
     },
     "execution_count": 32,
     "metadata": {},
     "output_type": "execute_result"
    }
   ],
   "source": [
    "df['중분류'].unique()"
   ]
  },
  {
   "cell_type": "code",
   "execution_count": 33,
   "id": "bb285a5e",
   "metadata": {},
   "outputs": [],
   "source": [
    "jcw = df[df['중분류'] == ('일식/중식/양식')]['카드이용금액계']\n",
    "bcf = df[df['중분류'] == ('제과/커피/패스트푸드')]['카드이용금액계']\n",
    "k = df[df['중분류'] == ('한식')]['카드이용금액계']"
   ]
  },
  {
   "cell_type": "code",
   "execution_count": 34,
   "id": "d87a9db9",
   "metadata": {},
   "outputs": [
    {
     "data": {
      "image/png": "[encoded data removed]",
      "text/plain": [
       "<Figure size 432x288 with 1 Axes>"
      ]
     },
     "metadata": {},
     "output_type": "display_data"
    }
   ],
   "source": [
    "import matplotlib.pyplot as plt\n",
    "plt.rcParams['font.family'] = 'NanumGothic'\n",
    "ratio = [jcw.mean(), bcf.mean(), k.mean()]\n",
    "\n",
    "labels = ['일식/중식/양식', '제과/커피/패스트푸드', '한식']\n",
    "\n",
    "plt.pie(ratio, labels=labels, autopct='%.1f%%')\n",
    "plt.show()"
   ]
  }
 ],
 "metadata": {
  "kernelspec": {
   "display_name": "Python 3",
   "language": "python",
   "name": "python3"
  },
  "language_info": {
   "codemirror_mode": {
    "name": "ipython",
    "version": 3
   },
   "file_extension": ".py",
   "mimetype": "text/x-python",
   "name": "python",
   "nbconvert_exporter": "python",
   "pygments_lexer": "ipython3",
   "version": "3.8.8"
  }
 },
 "nbformat": 4,
 "nbformat_minor": 5
}
