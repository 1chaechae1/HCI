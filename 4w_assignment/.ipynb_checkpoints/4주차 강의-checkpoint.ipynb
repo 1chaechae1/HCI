{
 "cells": [
  {
   "cell_type": "code",
   "execution_count": 1,
   "id": "922e0f1d",
   "metadata": {},
   "outputs": [
    {
     "name": "stdout",
     "output_type": "stream",
     "text": [
      "파이썬 데이터분석입문\n"
     ]
    }
   ],
   "source": [
    "print('파이썬', '데이터분석입문')"
   ]
  },
  {
   "cell_type": "code",
   "execution_count": 3,
   "id": "baa45d3f",
   "metadata": {},
   "outputs": [
    {
     "name": "stdout",
     "output_type": "stream",
     "text": [
      "귤/사과/배\n"
     ]
    }
   ],
   "source": [
    "print('귤', '사과', '배', sep='/')"
   ]
  },
  {
   "cell_type": "code",
   "execution_count": 6,
   "id": "be7a2059",
   "metadata": {},
   "outputs": [
    {
     "name": "stdout",
     "output_type": "stream",
     "text": [
      "['1번', '2번', '3번', '4번', '5번', '6번', '7번', '8번', '9번', '10번']\n"
     ]
    }
   ],
   "source": [
    "class_2_1 = ['1번','2번','3번','4번','5번','6번','7번','8번','9번','10번']\n",
    "print(class_2_1)"
   ]
  },
  {
   "cell_type": "code",
   "execution_count": 7,
   "id": "3cdade6d",
   "metadata": {},
   "outputs": [
    {
     "name": "stdout",
     "output_type": "stream",
     "text": [
      "['b', 'c']\n",
      "['b', 'c']\n"
     ]
    }
   ],
   "source": [
    "k = ['a','b','c','d','e']\n",
    "print(k[1:3])\n",
    "print(k[-4:-2])"
   ]
  },
  {
   "cell_type": "code",
   "execution_count": 8,
   "id": "0174db51",
   "metadata": {
    "scrolled": true
   },
   "outputs": [
    {
     "name": "stdout",
     "output_type": "stream",
     "text": [
      "['a', 'b', 'c', 'd']\n"
     ]
    }
   ],
   "source": [
    "l1 = ['a']\n",
    "l2 = ['b','c','d']\n",
    "print(l1+l2)"
   ]
  },
  {
   "cell_type": "code",
   "execution_count": 9,
   "id": "fbcc1e56",
   "metadata": {},
   "outputs": [
    {
     "name": "stdout",
     "output_type": "stream",
     "text": [
      "['a', ['b', 'c', 'd']]\n"
     ]
    }
   ],
   "source": [
    "l1 = ['a']\n",
    "l2 = ['b','c','d']\n",
    "l1.append(l2)\n",
    "print(l1)"
   ]
  },
  {
   "cell_type": "code",
   "execution_count": 10,
   "id": "3ba26395",
   "metadata": {},
   "outputs": [
    {
     "name": "stdout",
     "output_type": "stream",
     "text": [
      "바나나\n",
      "사과\n",
      "딸기\n",
      "배\n",
      "감\n"
     ]
    }
   ],
   "source": [
    "fruits = ['바나나','사과','딸기','배','감']\n",
    "for fruit in fruits:\n",
    "    print(fruit)"
   ]
  },
  {
   "cell_type": "code",
   "execution_count": 11,
   "id": "02cfa97f",
   "metadata": {},
   "outputs": [
    {
     "name": "stdout",
     "output_type": "stream",
     "text": [
      "문자\n"
     ]
    }
   ],
   "source": [
    "s = '문자'\n",
    "print(s)"
   ]
  },
  {
   "cell_type": "code",
   "execution_count": 12,
   "id": "be03e40a",
   "metadata": {},
   "outputs": [
    {
     "name": "stdout",
     "output_type": "stream",
     "text": [
      "사과망고, 파인애플\n"
     ]
    }
   ],
   "source": [
    "a = '사과'\n",
    "b = '망고, 파인애플'\n",
    "ab = a+b\n",
    "print(ab)"
   ]
  },
  {
   "cell_type": "code",
   "execution_count": 13,
   "id": "767e2f3d",
   "metadata": {},
   "outputs": [
    {
     "name": "stdout",
     "output_type": "stream",
     "text": [
      "**********\n"
     ]
    }
   ],
   "source": [
    "z = '*'\n",
    "print(z *10)"
   ]
  },
  {
   "cell_type": "code",
   "execution_count": 14,
   "id": "d8ee5fea",
   "metadata": {},
   "outputs": [
    {
     "name": "stdout",
     "output_type": "stream",
     "text": [
      "2월 20일은 일요일입니다\n"
     ]
    }
   ],
   "source": [
    "month = '2월'\n",
    "day = '20일'\n",
    "say = \"{} {}은 일요일입니다\".format(month,day)\n",
    "print(say)"
   ]
  },
  {
   "cell_type": "code",
   "execution_count": 15,
   "id": "569a18d9",
   "metadata": {},
   "outputs": [
    {
     "name": "stdout",
     "output_type": "stream",
     "text": [
      "   hp010-0000-0000   \n",
      "hp010-0000-0000\n",
      "010-0000-0000\n",
      "['010', '0000', '0000']\n"
     ]
    }
   ],
   "source": [
    "t1 = \"   hp010-0000-0000   \"\n",
    "print(t1)\n",
    "t2 = t1.strip()\n",
    "print(t2)\n",
    "t3 = t2.replace('hp','')\n",
    "print(t3)\n",
    "t4 = t3.split('-')\n",
    "print(t4)"
   ]
  },
  {
   "cell_type": "code",
   "execution_count": 16,
   "id": "b56d1098",
   "metadata": {},
   "outputs": [
    {
     "name": "stdout",
     "output_type": "stream",
     "text": [
      "비싸다\n"
     ]
    }
   ],
   "source": [
    "price = 5000\n",
    "if price > 3000:\n",
    "    print('비싸다')\n",
    "else:\n",
    "    print('저렴하다')"
   ]
  },
  {
   "cell_type": "code",
   "execution_count": 17,
   "id": "5cf8d90a",
   "metadata": {},
   "outputs": [],
   "source": []
  }
 ],
 "metadata": {
  "kernelspec": {
   "display_name": "Python 3",
   "language": "python",
   "name": "python3"
  },
  "language_info": {
   "codemirror_mode": {
    "name": "ipython",
    "version": 3
   },
   "file_extension": ".py",
   "mimetype": "text/x-python",
   "name": "python",
   "nbconvert_exporter": "python",
   "pygments_lexer": "ipython3",
   "version": "3.8.8"
  }
 },
 "nbformat": 4,
 "nbformat_minor": 5
}
