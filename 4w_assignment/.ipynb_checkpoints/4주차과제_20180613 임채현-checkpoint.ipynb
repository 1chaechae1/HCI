{
 "cells": [
  {
   "cell_type": "code",
   "execution_count": 1,
   "id": "db9b5a3a",
   "metadata": {},
   "outputs": [
    {
     "name": "stdout",
     "output_type": "stream",
     "text": [
      "파이썬 데이터분석입문 PlaywithData 데이터수집\n"
     ]
    }
   ],
   "source": [
    "#예제 1-5\n",
    "print('파이썬', '데이터분석입문', 'PlaywithData', '데이터수집')"
   ]
  },
  {
   "cell_type": "code",
   "execution_count": 2,
   "id": "a455189a",
   "metadata": {},
   "outputs": [
    {
     "name": "stdout",
     "output_type": "stream",
     "text": [
      "귤/사과/배\n"
     ]
    }
   ],
   "source": [
    "#예제 1-6\n",
    "print('귤', '사과', '배', sep='/')"
   ]
  },
  {
   "cell_type": "code",
   "execution_count": 3,
   "id": "ee06f5c7",
   "metadata": {
    "scrolled": true
   },
   "outputs": [
    {
     "name": "stdout",
     "output_type": "stream",
     "text": [
      "1번 2번 3번 4번 5번 6번 7번 8번 9번 10번\n",
      "['1번', '2번', '3번', '4번', '5번', '6번', '7번', '8번', '9번', '10번']\n"
     ]
    }
   ],
   "source": [
    "#예제 1-7\n",
    "print('1번','2번','3번','4번','5번','6번','7번','8번','9번','10번')\n",
    "\n",
    "class_2_1 = ['1번','2번','3번','4번','5번','6번','7번','8번','9번','10번']\n",
    "print(class_2_1)"
   ]
  },
  {
   "cell_type": "code",
   "execution_count": 4,
   "id": "ad747d87",
   "metadata": {},
   "outputs": [
    {
     "name": "stdout",
     "output_type": "stream",
     "text": [
      "b\n"
     ]
    }
   ],
   "source": [
    "#예제 1-8\n",
    "k = ['a', 'b', 'c', 'd', 'e']\n",
    "#index 0   1    2    3    4\n",
    "#index -5 -4   -3   -2   -1\n",
    "print(k[1])"
   ]
  },
  {
   "cell_type": "code",
   "execution_count": 5,
   "id": "7a118b56",
   "metadata": {},
   "outputs": [
    {
     "name": "stdout",
     "output_type": "stream",
     "text": [
      "['b', 'c']\n",
      "['b', 'c']\n"
     ]
    }
   ],
   "source": [
    "#예제 1-9\n",
    "k = ['a','b','c','d','e']\n",
    "#index 0   1    2    3    4\n",
    "#index -5 -4   -3   -2   -1\n",
    "print(k[1:3])\n",
    "print(k[-4:-2])"
   ]
  },
  {
   "cell_type": "code",
   "execution_count": 6,
   "id": "48f5a9de",
   "metadata": {},
   "outputs": [
    {
     "name": "stdout",
     "output_type": "stream",
     "text": [
      "['a', 'b', 'c', 'e']\n",
      "['b', 'c', 'e', 'a']\n"
     ]
    }
   ],
   "source": [
    "#예제 1-10\n",
    "#A + B\n",
    "l1 = ['a']\n",
    "l2 = ['b','c','e']\n",
    "print(l1+l2)\n",
    "print(l2+l1)"
   ]
  },
  {
   "cell_type": "code",
   "execution_count": 7,
   "id": "d5ba84f9",
   "metadata": {},
   "outputs": [
    {
     "name": "stdout",
     "output_type": "stream",
     "text": [
      "['a', ['b', 'c', 'e']]\n"
     ]
    }
   ],
   "source": [
    "#예제 1-11\n",
    "l1 = ['a']\n",
    "l2 = ['b','c','e']\n",
    "l1.append(l2)\n",
    "print(l1)"
   ]
  },
  {
   "cell_type": "code",
   "execution_count": 8,
   "id": "72d597f0",
   "metadata": {},
   "outputs": [
    {
     "name": "stdout",
     "output_type": "stream",
     "text": [
      "바나나\n",
      "사과\n",
      "딸기\n",
      "배\n",
      "감\n"
     ]
    }
   ],
   "source": [
    "#예제 1-12\n",
    "fruits = ['바나나','사과','딸기','배','감']\n",
    "for fruit in fruits:\n",
    "    print(fruit)"
   ]
  },
  {
   "cell_type": "code",
   "execution_count": 9,
   "id": "74b21ae9",
   "metadata": {},
   "outputs": [
    {
     "name": "stdout",
     "output_type": "stream",
     "text": [
      "문자\n"
     ]
    }
   ],
   "source": [
    "#예제 1-13\n",
    "s = '문자'\n",
    "print(s)"
   ]
  },
  {
   "cell_type": "code",
   "execution_count": 10,
   "id": "64687997",
   "metadata": {},
   "outputs": [
    {
     "name": "stdout",
     "output_type": "stream",
     "text": [
      "사과망고, 파인애플\n"
     ]
    }
   ],
   "source": [
    "#예제 1-14\n",
    "a = '사과'\n",
    "b = '망고, 파인애플'\n",
    "ab = a+b\n",
    "print(ab)"
   ]
  },
  {
   "cell_type": "code",
   "execution_count": 11,
   "id": "24df3205",
   "metadata": {},
   "outputs": [
    {
     "name": "stdout",
     "output_type": "stream",
     "text": [
      "**********\n"
     ]
    }
   ],
   "source": [
    "#예제 1-15\n",
    "z = '*'\n",
    "print(z *10)"
   ]
  },
  {
   "cell_type": "code",
   "execution_count": 12,
   "id": "935231be",
   "metadata": {},
   "outputs": [
    {
     "name": "stdout",
     "output_type": "stream",
     "text": [
      "2월 20일은 일요일입니다\n"
     ]
    }
   ],
   "source": [
    "#예제 1-16\n",
    "month = '2월'\n",
    "day = '20일'\n",
    "say = \"{} {}은 일요일입니다\".format(month,day)\n",
    "print(say)"
   ]
  },
  {
   "cell_type": "code",
   "execution_count": 13,
   "id": "5bad6915",
   "metadata": {},
   "outputs": [
    {
     "name": "stdout",
     "output_type": "stream",
     "text": [
      "다\n",
      "바\n",
      "다라마\n",
      "라마바\n"
     ]
    }
   ],
   "source": [
    "#예제 1-17\n",
    "k  =  \"가나다라마바\"\n",
    "#index 0 1 2 3 4 5\n",
    "print(k[2])\n",
    "print(k[-1])\n",
    "print(k[2:5])\n",
    "print(k[3:])"
   ]
  },
  {
   "cell_type": "code",
   "execution_count": 14,
   "id": "3579c4e0",
   "metadata": {},
   "outputs": [
    {
     "name": "stdout",
     "output_type": "stream",
     "text": [
      "   hp010-0000-0000   \n",
      "hp010-0000-0000\n",
      "010-0000-0000\n",
      "['010', '0000', '0000']\n"
     ]
    }
   ],
   "source": [
    "#예제 1-18\n",
    "t1 = \"   hp010-0000-0000   \"\n",
    "print(t1)\n",
    "t2 = t1.strip()\n",
    "print(t2)\n",
    "t3 = t2.replace('hp','')\n",
    "print(t3)\n",
    "t4 = t3.split('-')\n",
    "print(t4)"
   ]
  },
  {
   "cell_type": "code",
   "execution_count": 15,
   "id": "fc515ef9",
   "metadata": {},
   "outputs": [
    {
     "name": "stdout",
     "output_type": "stream",
     "text": [
      "비싸다\n"
     ]
    }
   ],
   "source": [
    "#예제 1-19\n",
    "price = 5000\n",
    "if price > 3000:\n",
    "    print('비싸다')\n",
    "else:\n",
    "    print('저렴하다')"
   ]
  },
  {
   "cell_type": "code",
   "execution_count": 16,
   "id": "c4e51879",
   "metadata": {},
   "outputs": [
    {
     "name": "stdout",
     "output_type": "stream",
     "text": [
      "안녕하세요\n",
      "제 이름은 홍길동 입니다\n"
     ]
    }
   ],
   "source": [
    "#예제 1-20\n",
    "def say_name(name):\n",
    "    print('안녕하세요')\n",
    "    print('제 이름은 '+ name + ' 입니다')\n",
    "    \n",
    "say_name('홍길동')"
   ]
  },
  {
   "cell_type": "code",
   "execution_count": 17,
   "id": "9a301327",
   "metadata": {},
   "outputs": [
    {
     "name": "stdout",
     "output_type": "stream",
     "text": [
      "1000\n"
     ]
    }
   ],
   "source": [
    "#예제 1-21\n",
    "def calcul(a, b):\n",
    "    result = a ** b\n",
    "    return result\n",
    "\n",
    "test = calcul(10, 3)\n",
    "print(test)"
   ]
  }
 ],
 "metadata": {
  "kernelspec": {
   "display_name": "Python 3",
   "language": "python",
   "name": "python3"
  },
  "language_info": {
   "codemirror_mode": {
    "name": "ipython",
    "version": 3
   },
   "file_extension": ".py",
   "mimetype": "text/x-python",
   "name": "python",
   "nbconvert_exporter": "python",
   "pygments_lexer": "ipython3",
   "version": "3.8.8"
  }
 },
 "nbformat": 4,
 "nbformat_minor": 5
}
